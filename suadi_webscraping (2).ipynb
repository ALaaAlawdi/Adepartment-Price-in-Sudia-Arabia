{
  "nbformat": 4,
  "nbformat_minor": 0,
  "metadata": {
    "colab": {
      "provenance": []
    },
    "kernelspec": {
      "name": "python3",
      "display_name": "Python 3"
    },
    "language_info": {
      "name": "python"
    }
  },
  "cells": [
    {
      "cell_type": "code",
      "execution_count": 1,
      "metadata": {
        "id": "5aZXUODNBouS"
      },
      "outputs": [],
      "source": [
        "# all imports\n",
        "import requests\n",
        "from bs4 import BeautifulSoup\n",
        "\n",
        "import json\n",
        "import time\n",
        "\n",
        "import pandas as pd\n",
        "\n",
        "from multiprocessing import Pool\n",
        "\n",
        "import os"
      ]
    },
    {
      "cell_type": "code",
      "source": [
        "airbnb_url = \"https://www.airbnb.com/s/Saudi-Arabia/homes?tab_id=home_tab&refinement_paths%5B%5D=%2Fhomes&date_picker_type=flexible_dates&adults=4&source=structured_search_input_header&search_type=autocomplete_click&monthly_start_date=2023-12-01&monthly_length=3&price_filter_input_type=0&price_filter_num_nights=49&channel=EXPLORE&checkin=2023-11-11&checkout=2023-12-30&query=Saudi%20Arabia&place_id=ChIJQSqV5z-z5xURm7YawktQYFk&flexible_trip_lengths%5B%5D=one_week\""
      ],
      "metadata": {
        "id": "bCEDHY_NCVd2"
      },
      "execution_count": 2,
      "outputs": []
    },
    {
      "cell_type": "code",
      "source": [
        "def extract_basic_features(listing_html):\n",
        "    features_dict = {}\n",
        "\n",
        "    # Extracting basic information\n",
        "    url_element = listing_html.find('a')\n",
        "    url = url_element.get('href') if url_element else None\n",
        "    features_dict['url'] = url\n",
        "\n",
        "    name_element = listing_html.find(\"span\", {\"data-testid\": \"listing-card-name\"})\n",
        "    name = name_element.text.strip() if name_element else None\n",
        "    features_dict['name'] = name\n",
        "\n",
        "    header_element = listing_html.find(\"div\", {\"data-testid\": \"listing-card-title\"})\n",
        "    header = header_element.text.strip() if header_element else None\n",
        "    features_dict['header'] = header\n",
        "\n",
        "    # Extracting additional details\n",
        "    beds_element = listing_html.select_one('.g1qv1ctd .fb4nyux:nth-child(2)')\n",
        "    beds = beds_element.text.strip() if beds_element else None\n",
        "    features_dict['beds'] = beds\n",
        "\n",
        "    bedrooms_element = listing_html.select_one('.g1qv1ctd .fb4nyux:nth-child(3)')\n",
        "    bedrooms = bedrooms_element.text.strip() if bedrooms_element else None\n",
        "    features_dict['bedrooms'] = bedrooms\n",
        "\n",
        "    date_range_element = listing_html.select_one('.g1qv1ctd .fb4nyux:nth-child(4)')\n",
        "    date_range = date_range_element.text.strip() if date_range_element else None\n",
        "    features_dict['date_range'] = date_range\n",
        "\n",
        "    # Extracting pricing information\n",
        "    price_element = listing_html.select_one('div._1jo4hgw span._tyxjp1')\n",
        "    price = price_element.text.strip() if price_element else None\n",
        "    features_dict['price'] = price\n",
        "\n",
        "    # Extracting rating information\n",
        "    rating_element = listing_html.select_one('span.r1dxllyb')\n",
        "    rating = rating_element.text.strip() if rating_element else None\n",
        "    features_dict['rating'] = rating\n",
        "\n",
        "    return features_dict\n"
      ],
      "metadata": {
        "id": "DoDy4ZrLDdD9"
      },
      "execution_count": 3,
      "outputs": []
    },
    {
      "cell_type": "code",
      "source": [
        "# let's finally write this function\n",
        "def get_listings(search_page):\n",
        "    soup = BeautifulSoup(requests.get(search_page).content, 'html.parser')\n",
        "    listings = soup.find_all('div', 'c1l1h97y')#c1l1h97y dir dir-ltr\n",
        "\n",
        "    return listings"
      ],
      "metadata": {
        "id": "MxeEi_A4CatF"
      },
      "execution_count": 4,
      "outputs": []
    },
    {
      "cell_type": "code",
      "source": [
        "# it works\n",
        "len(get_listings(airbnb_url))"
      ],
      "metadata": {
        "colab": {
          "base_uri": "https://localhost:8080/"
        },
        "id": "VY7CgIxWCnkQ",
        "outputId": "825f4187-d95c-45ea-97ec-84c0d5732bcc"
      },
      "execution_count": 5,
      "outputs": [
        {
          "output_type": "execute_result",
          "data": {
            "text/plain": [
              "18"
            ]
          },
          "metadata": {},
          "execution_count": 5
        }
      ]
    },
    {
      "cell_type": "code",
      "source": [
        "# let's try next page\n",
        "new_url = airbnb_url + '&items_offset=20'\n",
        "len(get_listings(new_url))"
      ],
      "metadata": {
        "colab": {
          "base_uri": "https://localhost:8080/"
        },
        "id": "7uArwNoyC8JI",
        "outputId": "5645282f-adf2-46f3-bc08-03c8edd3011e"
      },
      "execution_count": 6,
      "outputs": [
        {
          "output_type": "execute_result",
          "data": {
            "text/plain": [
              "18"
            ]
          },
          "metadata": {},
          "execution_count": 6
        }
      ]
    },
    {
      "cell_type": "code",
      "source": [
        "# let's iterate through all 15 pages\n",
        "all_listings = []\n",
        "for i in range(50):\n",
        "    offset = 20 * i\n",
        "    new_url = airbnb_url + f'&items_offset={offset}'\n",
        "    new_listings = get_listings(new_url)\n",
        "    all_listings.extend(new_listings)\n",
        "\n",
        "    # let's check if it's scraping\n",
        "    # print(len(all_listings))"
      ],
      "metadata": {
        "id": "WKaiHOGlDCY6"
      },
      "execution_count": 7,
      "outputs": []
    },
    {
      "cell_type": "code",
      "source": [
        "def process_search_pages(all_listings):\n",
        "    features_list = []\n",
        "    for listing in range(len(all_listings)):\n",
        "            features = extract_basic_features(all_listings[listing])\n",
        "            features_list.append(features)\n",
        "\n",
        "    return features_list\n",
        "\n",
        "features_list  = process_search_pages(all_listings)\n",
        "len(features_list)"
      ],
      "metadata": {
        "colab": {
          "base_uri": "https://localhost:8080/"
        },
        "id": "vJoy-6lCDKZt",
        "outputId": "3d19855d-0fbc-4d3e-d6b4-785a340d94cf"
      },
      "execution_count": 8,
      "outputs": [
        {
          "output_type": "execute_result",
          "data": {
            "text/plain": [
              "900"
            ]
          },
          "metadata": {},
          "execution_count": 8
        }
      ]
    },
    {
      "cell_type": "code",
      "source": [
        "import csv\n",
        "# Define the CSV file path\n",
        "csv_file_path = 'suadi_homes.csv'\n",
        "\n",
        "# Write the data to the CSV file\n",
        "with open(csv_file_path, 'w', newline='', encoding='utf-8') as csv_file:\n",
        "    # Define the CSV header based on the keys of the first dictionary\n",
        "    fieldnames = features_list[0].keys()\n",
        "\n",
        "    # Create a CSV writer\n",
        "    csv_writer = csv.DictWriter(csv_file, fieldnames=fieldnames)\n",
        "\n",
        "    # Write the header\n",
        "    csv_writer.writeheader()\n",
        "\n",
        "    # Write the data\n",
        "    csv_writer.writerows(features_list)\n",
        "\n",
        "print(f'The CSV file has been created at: {csv_file_path}')"
      ],
      "metadata": {
        "colab": {
          "base_uri": "https://localhost:8080/"
        },
        "id": "MeJvYEHtDUPQ",
        "outputId": "3f1b896c-dc20-4f75-e09b-5d278e52555a"
      },
      "execution_count": 10,
      "outputs": [
        {
          "output_type": "stream",
          "name": "stdout",
          "text": [
            "The CSV file has been created at: suadi_homes.csv\n"
          ]
        }
      ]
    }
  ]
}