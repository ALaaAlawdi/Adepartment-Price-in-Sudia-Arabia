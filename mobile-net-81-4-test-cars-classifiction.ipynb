{
 "cells": [
  {
   "cell_type": "markdown",
   "id": "97f1541c",
   "metadata": {
    "papermill": {
     "duration": 0.00755,
     "end_time": "2023-11-21T19:04:05.409928",
     "exception": false,
     "start_time": "2023-11-21T19:04:05.402378",
     "status": "completed"
    },
    "tags": []
   },
   "source": [
    "**Rocks Classifictions**"
   ]
  },
  {
   "cell_type": "markdown",
   "id": "e9536ad3",
   "metadata": {
    "papermill": {
     "duration": 0.006126,
     "end_time": "2023-11-21T19:04:05.422931",
     "exception": false,
     "start_time": "2023-11-21T19:04:05.416805",
     "status": "completed"
    },
    "tags": []
   },
   "source": [
    "**Import important library and Function**"
   ]
  },
  {
   "cell_type": "code",
   "execution_count": 1,
   "id": "4e9951c3",
   "metadata": {
    "execution": {
     "iopub.execute_input": "2023-11-21T19:04:05.437334Z",
     "iopub.status.busy": "2023-11-21T19:04:05.436832Z",
     "iopub.status.idle": "2023-11-21T19:04:18.196910Z",
     "shell.execute_reply": "2023-11-21T19:04:18.195897Z"
    },
    "papermill": {
     "duration": 12.771227,
     "end_time": "2023-11-21T19:04:18.199996",
     "exception": false,
     "start_time": "2023-11-21T19:04:05.428769",
     "status": "completed"
    },
    "tags": []
   },
   "outputs": [],
   "source": [
    "\n",
    "import numpy as np\n",
    "import pandas as pd  \n",
    "import time\n",
    "from sklearn.model_selection import train_test_split\n",
    "import matplotlib.pyplot as plt\n",
    "from matplotlib.pyplot import imshow\n",
    "import os\n",
    "import cv2\n",
    "\n",
    "import seaborn as sns\n",
    "import shutil\n",
    "import tensorflow as tf\n",
    "from tensorflow import keras\n",
    "from tensorflow.keras import backend as K\n",
    "from tensorflow.keras.layers import Dense, Activation,Dropout,Conv2D, MaxPooling2D,BatchNormalization\n",
    "from tensorflow.keras.optimizers import Adam, Adamax\n",
    "from tensorflow.keras.metrics import categorical_crossentropy\n",
    "from tensorflow.keras import regularizers\n",
    "\n",
    "from tensorflow.keras.preprocessing.image import ImageDataGenerator\n",
    "from tensorflow.keras.models import Model, load_model, Sequential\n",
    "sns.set_style('darkgrid')\n",
    "from sklearn.metrics import confusion_matrix, classification_report\n",
    "from tensorflow.keras.layers import Dense,Flatten , Conv2D , MaxPooling2D , Dropout\n",
    "from tensorflow.keras.models import Model , Sequential\n",
    "from tensorflow.keras.layers.experimental.preprocessing import Rescaling\n",
    "from tensorflow.keras.callbacks import EarlyStopping\n",
    "from tensorflow.keras.preprocessing import image_dataset_from_directory"
   ]
  },
  {
   "cell_type": "code",
   "execution_count": 2,
   "id": "5e187bb9",
   "metadata": {
    "execution": {
     "iopub.execute_input": "2023-11-21T19:04:18.214295Z",
     "iopub.status.busy": "2023-11-21T19:04:18.213756Z",
     "iopub.status.idle": "2023-11-21T19:04:18.741338Z",
     "shell.execute_reply": "2023-11-21T19:04:18.740366Z"
    },
    "papermill": {
     "duration": 0.537577,
     "end_time": "2023-11-21T19:04:18.744092",
     "exception": false,
     "start_time": "2023-11-21T19:04:18.206515",
     "status": "completed"
    },
    "tags": []
   },
   "outputs": [],
   "source": [
    "path='/kaggle/input/algerian-used-cars/dataset/DATA'\n",
    "filepaths=[]\n",
    "labels=[]\n",
    "\n",
    "for label in os.listdir(path):\n",
    "        for i in os.listdir(path+\"/\"+label):\n",
    "            filepaths.append(path+\"/\"+label+'/'+i)\n",
    "            labels.append(label)\n",
    "      "
   ]
  },
  {
   "cell_type": "code",
   "execution_count": 3,
   "id": "a543f4c9",
   "metadata": {
    "execution": {
     "iopub.execute_input": "2023-11-21T19:04:18.758347Z",
     "iopub.status.busy": "2023-11-21T19:04:18.757959Z",
     "iopub.status.idle": "2023-11-21T19:04:18.784450Z",
     "shell.execute_reply": "2023-11-21T19:04:18.783003Z"
    },
    "papermill": {
     "duration": 0.036475,
     "end_time": "2023-11-21T19:04:18.786962",
     "exception": false,
     "start_time": "2023-11-21T19:04:18.750487",
     "status": "completed"
    },
    "tags": []
   },
   "outputs": [
    {
     "name": "stdout",
     "output_type": "stream",
     "text": [
      "filepaths:  3235    labels:  3235\n"
     ]
    },
    {
     "data": {
      "text/plain": [
       "clio                 344\n",
       "megane               280\n",
       "duster               280\n",
       "sandero              260\n",
       "volkswagen tiguan    184\n",
       "picanto              178\n",
       "Golf                 160\n",
       "symbol               158\n",
       "octavia              156\n",
       "toyota corolla       150\n",
       "polo                 132\n",
       "hyundai i10          130\n",
       "chevroulet aveo      129\n",
       "hyundai tucson       128\n",
       "logan                112\n",
       "chevrolet spark      108\n",
       "seat ibiza           100\n",
       "mercedes class a      84\n",
       "bmw serie 1           82\n",
       "nemo citroen          80\n",
       "dtype: int64"
      ]
     },
     "execution_count": 3,
     "metadata": {},
     "output_type": "execute_result"
    }
   ],
   "source": [
    "print ('filepaths: ', len(filepaths), '   labels: ', len(labels))\n",
    "pd.Series(labels).value_counts()"
   ]
  },
  {
   "cell_type": "markdown",
   "id": "410a3708",
   "metadata": {
    "papermill": {
     "duration": 0.00625,
     "end_time": "2023-11-21T19:04:18.799415",
     "exception": false,
     "start_time": "2023-11-21T19:04:18.793165",
     "status": "completed"
    },
    "tags": []
   },
   "source": [
    "**Save the paths of images in data frame**"
   ]
  },
  {
   "cell_type": "code",
   "execution_count": 4,
   "id": "71225321",
   "metadata": {
    "execution": {
     "iopub.execute_input": "2023-11-21T19:04:18.813617Z",
     "iopub.status.busy": "2023-11-21T19:04:18.813217Z",
     "iopub.status.idle": "2023-11-21T19:04:18.826305Z",
     "shell.execute_reply": "2023-11-21T19:04:18.825004Z"
    },
    "papermill": {
     "duration": 0.022186,
     "end_time": "2023-11-21T19:04:18.828475",
     "exception": false,
     "start_time": "2023-11-21T19:04:18.806289",
     "status": "completed"
    },
    "scrolled": true,
    "tags": []
   },
   "outputs": [
    {
     "name": "stdout",
     "output_type": "stream",
     "text": [
      "clio                 344\n",
      "megane               280\n",
      "duster               280\n",
      "sandero              260\n",
      "volkswagen tiguan    184\n",
      "picanto              178\n",
      "Golf                 160\n",
      "symbol               158\n",
      "octavia              156\n",
      "toyota corolla       150\n",
      "polo                 132\n",
      "hyundai i10          130\n",
      "chevroulet aveo      129\n",
      "hyundai tucson       128\n",
      "logan                112\n",
      "chevrolet spark      108\n",
      "seat ibiza           100\n",
      "mercedes class a      84\n",
      "bmw serie 1           82\n",
      "nemo citroen          80\n",
      "Name: labels, dtype: int64\n"
     ]
    }
   ],
   "source": [
    "Fseries=pd.Series(filepaths, name='filepaths')\n",
    "Lseries=pd.Series(labels, name='labels')\n",
    "df=pd.concat([Fseries,Lseries], axis=1)\n",
    "\n",
    "balance=df['labels'].value_counts()\n",
    "print (balance) "
   ]
  },
  {
   "cell_type": "code",
   "execution_count": 5,
   "id": "013882a3",
   "metadata": {
    "execution": {
     "iopub.execute_input": "2023-11-21T19:04:18.843217Z",
     "iopub.status.busy": "2023-11-21T19:04:18.842899Z",
     "iopub.status.idle": "2023-11-21T19:04:18.857610Z",
     "shell.execute_reply": "2023-11-21T19:04:18.856510Z"
    },
    "papermill": {
     "duration": 0.024423,
     "end_time": "2023-11-21T19:04:18.859745",
     "exception": false,
     "start_time": "2023-11-21T19:04:18.835322",
     "status": "completed"
    },
    "tags": []
   },
   "outputs": [
    {
     "name": "stdout",
     "output_type": "stream",
     "text": [
      "2588 323 324\n",
      "clio                 263\n",
      "megane               233\n",
      "duster               225\n",
      "sandero              208\n",
      "picanto              143\n",
      "symbol               137\n",
      "volkswagen tiguan    134\n",
      "octavia              134\n",
      "Golf                 129\n",
      "toyota corolla       126\n",
      "hyundai i10          106\n",
      "polo                 105\n",
      "chevroulet aveo      105\n",
      "hyundai tucson        96\n",
      "logan                 86\n",
      "chevrolet spark       83\n",
      "seat ibiza            77\n",
      "bmw serie 1           67\n",
      "nemo citroen          66\n",
      "mercedes class a      65\n",
      "Name: labels, dtype: int64\n"
     ]
    }
   ],
   "source": [
    "## Split dataset into train, valid and test sets\n",
    "#shape transfer to 4 dimensions (total, height,width,channel)\n",
    "\n",
    "height=224\n",
    "width=224\n",
    "channels=3\n",
    "batch_size=60\n",
    "img_shape=(height, width, channels)\n",
    "img_size=(height, width)\n",
    "train_split=.8\n",
    "test_split=.1\n",
    "\n",
    "dummy_split=test_split/(1-train_split)\n",
    "\n",
    "train_df, dummy_df=train_test_split(df, train_size=train_split, shuffle=True, random_state=123)\n",
    "test_df, valid_df= train_test_split(dummy_df, train_size=dummy_split, shuffle=True, random_state=123)\n",
    "\n",
    "\n",
    "print (len(train_df), len(test_df), len(valid_df))\n",
    "vcounts=train_df['labels'].value_counts()\n",
    "print (vcounts)\n",
    "#vmin=np.min(list(vcounts))\n",
    "#print(vmin)"
   ]
  },
  {
   "cell_type": "markdown",
   "id": "d46d91b2",
   "metadata": {
    "papermill": {
     "duration": 0.005789,
     "end_time": "2023-11-21T19:04:18.871713",
     "exception": false,
     "start_time": "2023-11-21T19:04:18.865924",
     "status": "completed"
    },
    "tags": []
   },
   "source": [
    "**Create file to save augement Image** "
   ]
  },
  {
   "cell_type": "markdown",
   "id": "a9969f7f",
   "metadata": {
    "papermill": {
     "duration": 0.006084,
     "end_time": "2023-11-21T19:04:18.884672",
     "exception": false,
     "start_time": "2023-11-21T19:04:18.878588",
     "status": "completed"
    },
    "tags": []
   },
   "source": [
    "**Load training and validation sets and make augmentation**"
   ]
  },
  {
   "cell_type": "code",
   "execution_count": 6,
   "id": "ca72d81c",
   "metadata": {
    "execution": {
     "iopub.execute_input": "2023-11-21T19:04:18.898332Z",
     "iopub.status.busy": "2023-11-21T19:04:18.898035Z",
     "iopub.status.idle": "2023-11-21T19:04:18.904444Z",
     "shell.execute_reply": "2023-11-21T19:04:18.903491Z"
    },
    "papermill": {
     "duration": 0.01595,
     "end_time": "2023-11-21T19:04:18.906671",
     "exception": false,
     "start_time": "2023-11-21T19:04:18.890721",
     "status": "completed"
    },
    "tags": []
   },
   "outputs": [],
   "source": [
    "FILEPATH = '/kaggle/working/Dataset/' # filepath for data\n",
    "BATCH_SIZE = 64# keras training batch size\n",
    "IMAGE_SIZE = (224, 224) # size of images in dataset (keras will resize)\n",
    "\n",
    "\n",
    "ROUND_1_TRAINABLE_LAYERS = 0 # layers at end of the mobile_net base model to have trainable parameters\n",
    "ROUND_1_EPOCHS = 10\n",
    "\n",
    "ROUND_2_TRAINABLE_LAYERS = 38\n",
    "ROUND_2_LEARNING_SCALER = 0.2\n",
    "ROUND_2_EPOCHS = 10\n",
    "\n",
    "ROUND_3_TRAINABLE_LAYERS = 74\n",
    "ROUND_3_LEARNING_SCALER = 0.2\n",
    "ROUND_3_EPOCHS = 10\n",
    "\n",
    "LEARNING_RATE = 0.0001\n",
    "\n",
    "MODEL_CHECKPOINT_FILEPATH = './Bird-Classifier-Model-Checkpoint.ckpt'\n",
    "\n",
    "SEED = 6278 # random seed for repeatability of notebook"
   ]
  },
  {
   "cell_type": "code",
   "execution_count": 7,
   "id": "bc7cd678",
   "metadata": {
    "execution": {
     "iopub.execute_input": "2023-11-21T19:04:18.920674Z",
     "iopub.status.busy": "2023-11-21T19:04:18.920366Z",
     "iopub.status.idle": "2023-11-21T19:04:18.983275Z",
     "shell.execute_reply": "2023-11-21T19:04:18.982097Z"
    },
    "papermill": {
     "duration": 0.072469,
     "end_time": "2023-11-21T19:04:18.985521",
     "exception": false,
     "start_time": "2023-11-21T19:04:18.913052",
     "status": "completed"
    },
    "tags": []
   },
   "outputs": [
    {
     "name": "stdout",
     "output_type": "stream",
     "text": [
      "Found 2588 validated image filenames belonging to 20 classes.\n",
      "Found 323 validated image filenames belonging to 20 classes.\n",
      "Found 324 validated image filenames belonging to 20 classes.\n"
     ]
    }
   ],
   "source": [
    "## Generate train, test, valid\n",
    "def scalar(img):\n",
    "    return img/127.5-1  # scale pixel between -1 and +1\n",
    "trgen=ImageDataGenerator(preprocessing_function=scalar, horizontal_flip=True, rotation_range=40,\n",
    "      width_shift_range=0.2,\n",
    "      height_shift_range=0.2,\n",
    "      shear_range=0.2,\n",
    "      zoom_range=0.2,\n",
    "      \n",
    "      validation_split=0.2,\n",
    "      \n",
    "      fill_mode='nearest')\n",
    "tvgen=ImageDataGenerator(preprocessing_function=scalar)\n",
    "train_gen=trgen.flow_from_dataframe( train_df, x_col='filepaths', y_col='labels', target_size=img_size, class_mode='categorical',\n",
    "                                    color_mode='rgb', shuffle=False, batch_size=batch_size)\n",
    "test_gen=tvgen.flow_from_dataframe( test_df, x_col='filepaths', y_col='labels', target_size=img_size, class_mode='categorical',\n",
    "                                    color_mode='rgb', shuffle=False, batch_size=batch_size)\n",
    "valid_gen=tvgen.flow_from_dataframe( valid_df, x_col='filepaths', y_col='labels', target_size=img_size, class_mode='categorical',\n",
    "                                    color_mode='rgb', shuffle=False, batch_size=batch_size)"
   ]
  },
  {
   "cell_type": "markdown",
   "id": "636d8800",
   "metadata": {
    "papermill": {
     "duration": 0.007055,
     "end_time": "2023-11-21T19:04:18.999188",
     "exception": false,
     "start_time": "2023-11-21T19:04:18.992133",
     "status": "completed"
    },
    "tags": []
   },
   "source": [
    "**Bulid the model**"
   ]
  },
  {
   "cell_type": "code",
   "execution_count": 8,
   "id": "cae7b58f",
   "metadata": {
    "execution": {
     "iopub.execute_input": "2023-11-21T19:04:19.014897Z",
     "iopub.status.busy": "2023-11-21T19:04:19.014584Z",
     "iopub.status.idle": "2023-11-21T19:04:19.019730Z",
     "shell.execute_reply": "2023-11-21T19:04:19.018661Z"
    },
    "papermill": {
     "duration": 0.016341,
     "end_time": "2023-11-21T19:04:19.022068",
     "exception": false,
     "start_time": "2023-11-21T19:04:19.005727",
     "status": "completed"
    },
    "tags": []
   },
   "outputs": [],
   "source": [
    "from tensorflow.keras.layers import Input , Dense , Flatten , GlobalAveragePooling2D\n",
    "from tensorflow.keras.models import Sequential\n",
    "from tensorflow.keras.callbacks import ModelCheckpoint\n"
   ]
  },
  {
   "cell_type": "code",
   "execution_count": 9,
   "id": "c91c63b1",
   "metadata": {
    "execution": {
     "iopub.execute_input": "2023-11-21T19:04:19.037292Z",
     "iopub.status.busy": "2023-11-21T19:04:19.037020Z",
     "iopub.status.idle": "2023-11-21T19:04:25.349499Z",
     "shell.execute_reply": "2023-11-21T19:04:25.348671Z"
    },
    "papermill": {
     "duration": 6.322834,
     "end_time": "2023-11-21T19:04:25.352014",
     "exception": false,
     "start_time": "2023-11-21T19:04:19.029180",
     "status": "completed"
    },
    "tags": []
   },
   "outputs": [
    {
     "name": "stdout",
     "output_type": "stream",
     "text": [
      "Downloading data from https://storage.googleapis.com/tensorflow/keras-applications/mobilenet/mobilenet_1_0_224_tf_no_top.h5\n",
      "17227776/17225924 [==============================] - 0s 0us/step\n",
      "17235968/17225924 [==============================] - 0s 0us/step\n"
     ]
    }
   ],
   "source": [
    "# # i'll be using inception_v3 for this model , along with 2 extra dense layers and the output layer\n",
    "\n",
    "mobilenet = tf.keras.applications.mobilenet.MobileNet(input_shape=(224 , 224, 3),\n",
    "                                           include_top=False,\n",
    "                                           weights='imagenet')\n",
    "\n",
    "model = Sequential()\n",
    "model.add(mobilenet)\n",
    "model.add(GlobalAveragePooling2D())\n",
    "model.add(Flatten())\n",
    "model.add(Dense(1024, activation=\"relu\"))\n",
    "model.add(Dense(512, activation=\"relu\"))\n",
    "model.add(Dense(20, activation=\"softmax\" , name=\"classification\"))"
   ]
  },
  {
   "cell_type": "code",
   "execution_count": 10,
   "id": "b53c6af5",
   "metadata": {
    "execution": {
     "iopub.execute_input": "2023-11-21T19:04:25.367988Z",
     "iopub.status.busy": "2023-11-21T19:04:25.367696Z",
     "iopub.status.idle": "2023-11-21T19:04:25.385052Z",
     "shell.execute_reply": "2023-11-21T19:04:25.384003Z"
    },
    "papermill": {
     "duration": 0.027972,
     "end_time": "2023-11-21T19:04:25.387424",
     "exception": false,
     "start_time": "2023-11-21T19:04:25.359452",
     "status": "completed"
    },
    "tags": []
   },
   "outputs": [],
   "source": [
    "optimizer_1 = tf.keras.optimizers.Adam(learning_rate = LEARNING_RATE)\n",
    "\n",
    "loss = tf.keras.losses.CategoricalCrossentropy(from_logits=False)\n",
    "\n",
    "model_checkpoint = ModelCheckpoint(MODEL_CHECKPOINT_FILEPATH,\n",
    "                                   monitor='val_accuracy',\n",
    "                                   save_best_only=True,\n",
    "                                   save_weights_only=True,\n",
    "                                   verbose=1,\n",
    "                                   mode = 'max')\n",
    "\n",
    "callbacks = [model_checkpoint]\n",
    "\n",
    "model.compile(optimizer = optimizer_1,\n",
    "              loss = loss,\n",
    "              metrics=['accuracy'])"
   ]
  },
  {
   "cell_type": "code",
   "execution_count": 11,
   "id": "c0c4b2b4",
   "metadata": {
    "execution": {
     "iopub.execute_input": "2023-11-21T19:04:25.402875Z",
     "iopub.status.busy": "2023-11-21T19:04:25.402117Z",
     "iopub.status.idle": "2023-11-21T20:10:05.779029Z",
     "shell.execute_reply": "2023-11-21T20:10:05.777774Z"
    },
    "papermill": {
     "duration": 3940.386669,
     "end_time": "2023-11-21T20:10:05.781178",
     "exception": false,
     "start_time": "2023-11-21T19:04:25.394509",
     "status": "completed"
    },
    "tags": []
   },
   "outputs": [
    {
     "name": "stdout",
     "output_type": "stream",
     "text": [
      "Epoch 1/100\n",
      "44/44 [==============================] - 65s 1s/step - loss: 2.5795 - accuracy: 0.2608 - val_loss: 2.3587 - val_accuracy: 0.2994\n",
      "\n",
      "Epoch 00001: val_accuracy improved from -inf to 0.29938, saving model to ./Bird-Classifier-Model-Checkpoint.ckpt\n",
      "Epoch 2/100\n",
      "44/44 [==============================] - 39s 880ms/step - loss: 1.5199 - accuracy: 0.5951 - val_loss: 1.7232 - val_accuracy: 0.4846\n",
      "\n",
      "Epoch 00002: val_accuracy improved from 0.29938 to 0.48457, saving model to ./Bird-Classifier-Model-Checkpoint.ckpt\n",
      "Epoch 3/100\n",
      "44/44 [==============================] - 39s 871ms/step - loss: 0.8054 - accuracy: 0.7825 - val_loss: 1.0766 - val_accuracy: 0.7099\n",
      "\n",
      "Epoch 00003: val_accuracy improved from 0.48457 to 0.70988, saving model to ./Bird-Classifier-Model-Checkpoint.ckpt\n",
      "Epoch 4/100\n",
      "44/44 [==============================] - 39s 888ms/step - loss: 0.4659 - accuracy: 0.8779 - val_loss: 0.7542 - val_accuracy: 0.7778\n",
      "\n",
      "Epoch 00004: val_accuracy improved from 0.70988 to 0.77778, saving model to ./Bird-Classifier-Model-Checkpoint.ckpt\n",
      "Epoch 5/100\n",
      "44/44 [==============================] - 40s 893ms/step - loss: 0.2915 - accuracy: 0.9320 - val_loss: 0.5213 - val_accuracy: 0.8519\n",
      "\n",
      "Epoch 00005: val_accuracy improved from 0.77778 to 0.85185, saving model to ./Bird-Classifier-Model-Checkpoint.ckpt\n",
      "Epoch 6/100\n",
      "44/44 [==============================] - 40s 892ms/step - loss: 0.2025 - accuracy: 0.9532 - val_loss: 0.4497 - val_accuracy: 0.8735\n",
      "\n",
      "Epoch 00006: val_accuracy improved from 0.85185 to 0.87346, saving model to ./Bird-Classifier-Model-Checkpoint.ckpt\n",
      "Epoch 7/100\n",
      "44/44 [==============================] - 39s 881ms/step - loss: 0.1370 - accuracy: 0.9710 - val_loss: 0.3437 - val_accuracy: 0.9105\n",
      "\n",
      "Epoch 00007: val_accuracy improved from 0.87346 to 0.91049, saving model to ./Bird-Classifier-Model-Checkpoint.ckpt\n",
      "Epoch 8/100\n",
      "44/44 [==============================] - 39s 869ms/step - loss: 0.1066 - accuracy: 0.9741 - val_loss: 0.2784 - val_accuracy: 0.9259\n",
      "\n",
      "Epoch 00008: val_accuracy improved from 0.91049 to 0.92593, saving model to ./Bird-Classifier-Model-Checkpoint.ckpt\n",
      "Epoch 9/100\n",
      "44/44 [==============================] - 39s 877ms/step - loss: 0.0883 - accuracy: 0.9791 - val_loss: 0.2342 - val_accuracy: 0.9352\n",
      "\n",
      "Epoch 00009: val_accuracy improved from 0.92593 to 0.93519, saving model to ./Bird-Classifier-Model-Checkpoint.ckpt\n",
      "Epoch 10/100\n",
      "44/44 [==============================] - 39s 883ms/step - loss: 0.0587 - accuracy: 0.9888 - val_loss: 0.2348 - val_accuracy: 0.9321\n",
      "\n",
      "Epoch 00010: val_accuracy did not improve from 0.93519\n",
      "Epoch 11/100\n",
      "44/44 [==============================] - 39s 868ms/step - loss: 0.0525 - accuracy: 0.9900 - val_loss: 0.2444 - val_accuracy: 0.9290\n",
      "\n",
      "Epoch 00011: val_accuracy did not improve from 0.93519\n",
      "Epoch 12/100\n",
      "44/44 [==============================] - 39s 876ms/step - loss: 0.0729 - accuracy: 0.9807 - val_loss: 0.2032 - val_accuracy: 0.9506\n",
      "\n",
      "Epoch 00012: val_accuracy improved from 0.93519 to 0.95062, saving model to ./Bird-Classifier-Model-Checkpoint.ckpt\n",
      "Epoch 13/100\n",
      "44/44 [==============================] - 39s 869ms/step - loss: 0.0374 - accuracy: 0.9900 - val_loss: 0.1596 - val_accuracy: 0.9599\n",
      "\n",
      "Epoch 00013: val_accuracy improved from 0.95062 to 0.95988, saving model to ./Bird-Classifier-Model-Checkpoint.ckpt\n",
      "Epoch 14/100\n",
      "44/44 [==============================] - 39s 885ms/step - loss: 0.0317 - accuracy: 0.9934 - val_loss: 0.1697 - val_accuracy: 0.9568\n",
      "\n",
      "Epoch 00014: val_accuracy did not improve from 0.95988\n",
      "Epoch 15/100\n",
      "44/44 [==============================] - 39s 880ms/step - loss: 0.0306 - accuracy: 0.9938 - val_loss: 0.1744 - val_accuracy: 0.9568\n",
      "\n",
      "Epoch 00015: val_accuracy did not improve from 0.95988\n",
      "Epoch 16/100\n",
      "44/44 [==============================] - 39s 874ms/step - loss: 0.0234 - accuracy: 0.9965 - val_loss: 0.1479 - val_accuracy: 0.9630\n",
      "\n",
      "Epoch 00016: val_accuracy improved from 0.95988 to 0.96296, saving model to ./Bird-Classifier-Model-Checkpoint.ckpt\n",
      "Epoch 17/100\n",
      "44/44 [==============================] - 39s 896ms/step - loss: 0.0166 - accuracy: 0.9973 - val_loss: 0.1289 - val_accuracy: 0.9660\n",
      "\n",
      "Epoch 00017: val_accuracy improved from 0.96296 to 0.96605, saving model to ./Bird-Classifier-Model-Checkpoint.ckpt\n",
      "Epoch 18/100\n",
      "44/44 [==============================] - 39s 869ms/step - loss: 0.0201 - accuracy: 0.9957 - val_loss: 0.1336 - val_accuracy: 0.9599\n",
      "\n",
      "Epoch 00018: val_accuracy did not improve from 0.96605\n",
      "Epoch 19/100\n",
      "44/44 [==============================] - 39s 875ms/step - loss: 0.0168 - accuracy: 0.9965 - val_loss: 0.1352 - val_accuracy: 0.9599\n",
      "\n",
      "Epoch 00019: val_accuracy did not improve from 0.96605\n",
      "Epoch 20/100\n",
      "44/44 [==============================] - 39s 877ms/step - loss: 0.0148 - accuracy: 0.9988 - val_loss: 0.1466 - val_accuracy: 0.9630\n",
      "\n",
      "Epoch 00020: val_accuracy did not improve from 0.96605\n",
      "Epoch 21/100\n",
      "44/44 [==============================] - 39s 874ms/step - loss: 0.0196 - accuracy: 0.9961 - val_loss: 0.1190 - val_accuracy: 0.9691\n",
      "\n",
      "Epoch 00021: val_accuracy improved from 0.96605 to 0.96914, saving model to ./Bird-Classifier-Model-Checkpoint.ckpt\n",
      "Epoch 22/100\n",
      "44/44 [==============================] - 39s 874ms/step - loss: 0.0174 - accuracy: 0.9965 - val_loss: 0.1414 - val_accuracy: 0.9630\n",
      "\n",
      "Epoch 00022: val_accuracy did not improve from 0.96914\n",
      "Epoch 23/100\n",
      "44/44 [==============================] - 39s 881ms/step - loss: 0.0141 - accuracy: 0.9969 - val_loss: 0.1472 - val_accuracy: 0.9660\n",
      "\n",
      "Epoch 00023: val_accuracy did not improve from 0.96914\n",
      "Epoch 24/100\n",
      "44/44 [==============================] - 39s 883ms/step - loss: 0.0214 - accuracy: 0.9938 - val_loss: 0.2269 - val_accuracy: 0.9444\n",
      "\n",
      "Epoch 00024: val_accuracy did not improve from 0.96914\n",
      "Epoch 25/100\n",
      "44/44 [==============================] - 39s 877ms/step - loss: 0.0200 - accuracy: 0.9969 - val_loss: 0.1735 - val_accuracy: 0.9506\n",
      "\n",
      "Epoch 00025: val_accuracy did not improve from 0.96914\n",
      "Epoch 26/100\n",
      "44/44 [==============================] - 39s 877ms/step - loss: 0.0174 - accuracy: 0.9954 - val_loss: 0.1539 - val_accuracy: 0.9599\n",
      "\n",
      "Epoch 00026: val_accuracy did not improve from 0.96914\n",
      "Epoch 27/100\n",
      "44/44 [==============================] - 39s 881ms/step - loss: 0.0148 - accuracy: 0.9977 - val_loss: 0.1047 - val_accuracy: 0.9784\n",
      "\n",
      "Epoch 00027: val_accuracy improved from 0.96914 to 0.97840, saving model to ./Bird-Classifier-Model-Checkpoint.ckpt\n",
      "Epoch 28/100\n",
      "44/44 [==============================] - 39s 871ms/step - loss: 0.0124 - accuracy: 0.9961 - val_loss: 0.1076 - val_accuracy: 0.9784\n",
      "\n",
      "Epoch 00028: val_accuracy did not improve from 0.97840\n",
      "Epoch 29/100\n",
      "44/44 [==============================] - 39s 884ms/step - loss: 0.0122 - accuracy: 0.9957 - val_loss: 0.1310 - val_accuracy: 0.9722\n",
      "\n",
      "Epoch 00029: val_accuracy did not improve from 0.97840\n",
      "Epoch 30/100\n",
      "44/44 [==============================] - 39s 875ms/step - loss: 0.0132 - accuracy: 0.9965 - val_loss: 0.1034 - val_accuracy: 0.9784\n",
      "\n",
      "Epoch 00030: val_accuracy did not improve from 0.97840\n",
      "Epoch 31/100\n",
      "44/44 [==============================] - 39s 885ms/step - loss: 0.0112 - accuracy: 0.9973 - val_loss: 0.0773 - val_accuracy: 0.9753\n",
      "\n",
      "Epoch 00031: val_accuracy did not improve from 0.97840\n",
      "Epoch 32/100\n",
      "44/44 [==============================] - 39s 885ms/step - loss: 0.0142 - accuracy: 0.9961 - val_loss: 0.1504 - val_accuracy: 0.9599\n",
      "\n",
      "Epoch 00032: val_accuracy did not improve from 0.97840\n",
      "Epoch 33/100\n",
      "44/44 [==============================] - 39s 871ms/step - loss: 0.0186 - accuracy: 0.9950 - val_loss: 0.1273 - val_accuracy: 0.9660\n",
      "\n",
      "Epoch 00033: val_accuracy did not improve from 0.97840\n",
      "Epoch 34/100\n",
      "44/44 [==============================] - 39s 871ms/step - loss: 0.0201 - accuracy: 0.9938 - val_loss: 0.1930 - val_accuracy: 0.9383\n",
      "\n",
      "Epoch 00034: val_accuracy did not improve from 0.97840\n",
      "Epoch 35/100\n",
      "44/44 [==============================] - 40s 897ms/step - loss: 0.0242 - accuracy: 0.9915 - val_loss: 0.1249 - val_accuracy: 0.9599\n",
      "\n",
      "Epoch 00035: val_accuracy did not improve from 0.97840\n",
      "Epoch 36/100\n",
      "44/44 [==============================] - 40s 891ms/step - loss: 0.0238 - accuracy: 0.9919 - val_loss: 0.0942 - val_accuracy: 0.9753\n",
      "\n",
      "Epoch 00036: val_accuracy did not improve from 0.97840\n",
      "Epoch 37/100\n",
      "44/44 [==============================] - 39s 878ms/step - loss: 0.0186 - accuracy: 0.9950 - val_loss: 0.1287 - val_accuracy: 0.9660\n",
      "\n",
      "Epoch 00037: val_accuracy did not improve from 0.97840\n",
      "Epoch 38/100\n",
      "44/44 [==============================] - 39s 879ms/step - loss: 0.0153 - accuracy: 0.9950 - val_loss: 0.1469 - val_accuracy: 0.9691\n",
      "\n",
      "Epoch 00038: val_accuracy did not improve from 0.97840\n",
      "Epoch 39/100\n",
      "44/44 [==============================] - 39s 883ms/step - loss: 0.0133 - accuracy: 0.9981 - val_loss: 0.2895 - val_accuracy: 0.9537\n",
      "\n",
      "Epoch 00039: val_accuracy did not improve from 0.97840\n",
      "Epoch 40/100\n",
      "44/44 [==============================] - 39s 882ms/step - loss: 0.0155 - accuracy: 0.9946 - val_loss: 0.1785 - val_accuracy: 0.9630\n",
      "\n",
      "Epoch 00040: val_accuracy did not improve from 0.97840\n",
      "Epoch 41/100\n",
      "44/44 [==============================] - 39s 872ms/step - loss: 0.0085 - accuracy: 0.9973 - val_loss: 0.1503 - val_accuracy: 0.9691\n",
      "\n",
      "Epoch 00041: val_accuracy did not improve from 0.97840\n",
      "Epoch 42/100\n",
      "44/44 [==============================] - 39s 880ms/step - loss: 0.0135 - accuracy: 0.9965 - val_loss: 0.1395 - val_accuracy: 0.9691\n",
      "\n",
      "Epoch 00042: val_accuracy did not improve from 0.97840\n",
      "Epoch 43/100\n",
      "44/44 [==============================] - 39s 881ms/step - loss: 0.0107 - accuracy: 0.9969 - val_loss: 0.1309 - val_accuracy: 0.9722\n",
      "\n",
      "Epoch 00043: val_accuracy did not improve from 0.97840\n",
      "Epoch 44/100\n",
      "44/44 [==============================] - 39s 874ms/step - loss: 0.0057 - accuracy: 0.9985 - val_loss: 0.1066 - val_accuracy: 0.9753\n",
      "\n",
      "Epoch 00044: val_accuracy did not improve from 0.97840\n",
      "Epoch 45/100\n",
      "44/44 [==============================] - 39s 874ms/step - loss: 0.0101 - accuracy: 0.9977 - val_loss: 0.1175 - val_accuracy: 0.9753\n",
      "\n",
      "Epoch 00045: val_accuracy did not improve from 0.97840\n",
      "Epoch 46/100\n",
      "44/44 [==============================] - 39s 868ms/step - loss: 0.0125 - accuracy: 0.9957 - val_loss: 0.2027 - val_accuracy: 0.9630\n",
      "\n",
      "Epoch 00046: val_accuracy did not improve from 0.97840\n",
      "Epoch 47/100\n",
      "44/44 [==============================] - 39s 882ms/step - loss: 0.0090 - accuracy: 0.9977 - val_loss: 0.1388 - val_accuracy: 0.9691\n",
      "\n",
      "Epoch 00047: val_accuracy did not improve from 0.97840\n",
      "Epoch 48/100\n",
      "44/44 [==============================] - 39s 873ms/step - loss: 0.0126 - accuracy: 0.9946 - val_loss: 0.1325 - val_accuracy: 0.9722\n",
      "\n",
      "Epoch 00048: val_accuracy did not improve from 0.97840\n",
      "Epoch 49/100\n",
      "44/44 [==============================] - 39s 884ms/step - loss: 0.0152 - accuracy: 0.9961 - val_loss: 0.2607 - val_accuracy: 0.9383\n",
      "\n",
      "Epoch 00049: val_accuracy did not improve from 0.97840\n",
      "Epoch 50/100\n",
      "44/44 [==============================] - 39s 878ms/step - loss: 0.0211 - accuracy: 0.9930 - val_loss: 0.1424 - val_accuracy: 0.9660\n",
      "\n",
      "Epoch 00050: val_accuracy did not improve from 0.97840\n",
      "Epoch 51/100\n",
      "44/44 [==============================] - 39s 869ms/step - loss: 0.0220 - accuracy: 0.9930 - val_loss: 0.3790 - val_accuracy: 0.8951\n",
      "\n",
      "Epoch 00051: val_accuracy did not improve from 0.97840\n",
      "Epoch 52/100\n",
      "44/44 [==============================] - 39s 877ms/step - loss: 0.0212 - accuracy: 0.9930 - val_loss: 0.4016 - val_accuracy: 0.9012\n",
      "\n",
      "Epoch 00052: val_accuracy did not improve from 0.97840\n",
      "Epoch 53/100\n",
      "44/44 [==============================] - 39s 883ms/step - loss: 0.0162 - accuracy: 0.9946 - val_loss: 0.1886 - val_accuracy: 0.9537\n",
      "\n",
      "Epoch 00053: val_accuracy did not improve from 0.97840\n",
      "Epoch 54/100\n",
      "44/44 [==============================] - 39s 884ms/step - loss: 0.0151 - accuracy: 0.9942 - val_loss: 0.1516 - val_accuracy: 0.9568\n",
      "\n",
      "Epoch 00054: val_accuracy did not improve from 0.97840\n",
      "Epoch 55/100\n",
      "44/44 [==============================] - 39s 887ms/step - loss: 0.0084 - accuracy: 0.9981 - val_loss: 0.1318 - val_accuracy: 0.9784\n",
      "\n",
      "Epoch 00055: val_accuracy did not improve from 0.97840\n",
      "Epoch 56/100\n",
      "44/44 [==============================] - 39s 877ms/step - loss: 0.0126 - accuracy: 0.9973 - val_loss: 0.1467 - val_accuracy: 0.9784\n",
      "\n",
      "Epoch 00056: val_accuracy did not improve from 0.97840\n",
      "Epoch 57/100\n",
      "44/44 [==============================] - 39s 881ms/step - loss: 0.0118 - accuracy: 0.9961 - val_loss: 0.1746 - val_accuracy: 0.9722\n",
      "\n",
      "Epoch 00057: val_accuracy did not improve from 0.97840\n",
      "Epoch 58/100\n",
      "44/44 [==============================] - 39s 886ms/step - loss: 0.0205 - accuracy: 0.9930 - val_loss: 0.1843 - val_accuracy: 0.9630\n",
      "\n",
      "Epoch 00058: val_accuracy did not improve from 0.97840\n",
      "Epoch 59/100\n",
      "44/44 [==============================] - 39s 875ms/step - loss: 0.0094 - accuracy: 0.9969 - val_loss: 0.1292 - val_accuracy: 0.9691\n",
      "\n",
      "Epoch 00059: val_accuracy did not improve from 0.97840\n",
      "Epoch 60/100\n",
      "44/44 [==============================] - 40s 910ms/step - loss: 0.0081 - accuracy: 0.9981 - val_loss: 0.1226 - val_accuracy: 0.9753\n",
      "\n",
      "Epoch 00060: val_accuracy did not improve from 0.97840\n",
      "Epoch 61/100\n",
      "44/44 [==============================] - 41s 931ms/step - loss: 0.0060 - accuracy: 0.9981 - val_loss: 0.1604 - val_accuracy: 0.9630\n",
      "\n",
      "Epoch 00061: val_accuracy did not improve from 0.97840\n",
      "Epoch 62/100\n",
      "44/44 [==============================] - 39s 873ms/step - loss: 0.0047 - accuracy: 0.9988 - val_loss: 0.1431 - val_accuracy: 0.9660\n",
      "\n",
      "Epoch 00062: val_accuracy did not improve from 0.97840\n",
      "Epoch 63/100\n",
      "44/44 [==============================] - 39s 881ms/step - loss: 0.0186 - accuracy: 0.9957 - val_loss: 0.0982 - val_accuracy: 0.9753\n",
      "\n",
      "Epoch 00063: val_accuracy did not improve from 0.97840\n",
      "Epoch 64/100\n",
      "44/44 [==============================] - 39s 878ms/step - loss: 0.0098 - accuracy: 0.9981 - val_loss: 0.0917 - val_accuracy: 0.9753\n",
      "\n",
      "Epoch 00064: val_accuracy did not improve from 0.97840\n",
      "Epoch 65/100\n",
      "44/44 [==============================] - 39s 882ms/step - loss: 0.0061 - accuracy: 0.9985 - val_loss: 0.0720 - val_accuracy: 0.9784\n",
      "\n",
      "Epoch 00065: val_accuracy did not improve from 0.97840\n",
      "Epoch 66/100\n",
      "44/44 [==============================] - 39s 873ms/step - loss: 0.0115 - accuracy: 0.9961 - val_loss: 0.0564 - val_accuracy: 0.9815\n",
      "\n",
      "Epoch 00066: val_accuracy improved from 0.97840 to 0.98148, saving model to ./Bird-Classifier-Model-Checkpoint.ckpt\n",
      "Epoch 67/100\n",
      "44/44 [==============================] - 39s 899ms/step - loss: 0.0064 - accuracy: 0.9981 - val_loss: 0.0804 - val_accuracy: 0.9784\n",
      "\n",
      "Epoch 00067: val_accuracy did not improve from 0.98148\n",
      "Epoch 68/100\n",
      "44/44 [==============================] - 39s 874ms/step - loss: 0.0099 - accuracy: 0.9965 - val_loss: 0.1485 - val_accuracy: 0.9660\n",
      "\n",
      "Epoch 00068: val_accuracy did not improve from 0.98148\n",
      "Epoch 69/100\n",
      "44/44 [==============================] - 38s 867ms/step - loss: 0.0071 - accuracy: 0.9981 - val_loss: 0.1285 - val_accuracy: 0.9722\n",
      "\n",
      "Epoch 00069: val_accuracy did not improve from 0.98148\n",
      "Epoch 70/100\n",
      "44/44 [==============================] - 39s 880ms/step - loss: 0.0116 - accuracy: 0.9954 - val_loss: 0.1456 - val_accuracy: 0.9660\n",
      "\n",
      "Epoch 00070: val_accuracy did not improve from 0.98148\n",
      "Epoch 71/100\n",
      "44/44 [==============================] - 39s 878ms/step - loss: 0.0131 - accuracy: 0.9965 - val_loss: 0.1141 - val_accuracy: 0.9691\n",
      "\n",
      "Epoch 00071: val_accuracy did not improve from 0.98148\n",
      "Epoch 72/100\n",
      "44/44 [==============================] - 40s 894ms/step - loss: 0.0103 - accuracy: 0.9965 - val_loss: 0.1458 - val_accuracy: 0.9599\n",
      "\n",
      "Epoch 00072: val_accuracy did not improve from 0.98148\n",
      "Epoch 73/100\n",
      "44/44 [==============================] - 39s 876ms/step - loss: 0.0057 - accuracy: 0.9977 - val_loss: 0.1446 - val_accuracy: 0.9660\n",
      "\n",
      "Epoch 00073: val_accuracy did not improve from 0.98148\n",
      "Epoch 74/100\n",
      "44/44 [==============================] - 39s 868ms/step - loss: 0.0052 - accuracy: 0.9981 - val_loss: 0.0942 - val_accuracy: 0.9815\n",
      "\n",
      "Epoch 00074: val_accuracy did not improve from 0.98148\n",
      "Epoch 75/100\n",
      "44/44 [==============================] - 39s 877ms/step - loss: 0.0056 - accuracy: 0.9988 - val_loss: 0.1051 - val_accuracy: 0.9815\n",
      "\n",
      "Epoch 00075: val_accuracy did not improve from 0.98148\n",
      "Epoch 76/100\n",
      "44/44 [==============================] - 39s 871ms/step - loss: 0.0048 - accuracy: 0.9985 - val_loss: 0.1708 - val_accuracy: 0.9722\n",
      "\n",
      "Epoch 00076: val_accuracy did not improve from 0.98148\n",
      "Epoch 77/100\n",
      "44/44 [==============================] - 39s 878ms/step - loss: 0.0047 - accuracy: 0.9985 - val_loss: 0.1256 - val_accuracy: 0.9722\n",
      "\n",
      "Epoch 00077: val_accuracy did not improve from 0.98148\n",
      "Epoch 78/100\n",
      "44/44 [==============================] - 40s 901ms/step - loss: 0.0186 - accuracy: 0.9950 - val_loss: 0.1268 - val_accuracy: 0.9722\n",
      "\n",
      "Epoch 00078: val_accuracy did not improve from 0.98148\n",
      "Epoch 79/100\n",
      "44/44 [==============================] - 42s 955ms/step - loss: 0.0295 - accuracy: 0.9923 - val_loss: 0.1978 - val_accuracy: 0.9660\n",
      "\n",
      "Epoch 00079: val_accuracy did not improve from 0.98148\n",
      "Epoch 80/100\n",
      "44/44 [==============================] - 41s 912ms/step - loss: 0.0260 - accuracy: 0.9915 - val_loss: 0.2660 - val_accuracy: 0.9475\n",
      "\n",
      "Epoch 00080: val_accuracy did not improve from 0.98148\n",
      "Epoch 81/100\n",
      "44/44 [==============================] - 40s 912ms/step - loss: 0.0156 - accuracy: 0.9954 - val_loss: 0.1279 - val_accuracy: 0.9691\n",
      "\n",
      "Epoch 00081: val_accuracy did not improve from 0.98148\n",
      "Epoch 82/100\n",
      "44/44 [==============================] - 39s 879ms/step - loss: 0.0105 - accuracy: 0.9969 - val_loss: 0.1533 - val_accuracy: 0.9722\n",
      "\n",
      "Epoch 00082: val_accuracy did not improve from 0.98148\n",
      "Epoch 83/100\n",
      "44/44 [==============================] - 39s 880ms/step - loss: 0.0099 - accuracy: 0.9977 - val_loss: 0.1250 - val_accuracy: 0.9784\n",
      "\n",
      "Epoch 00083: val_accuracy did not improve from 0.98148\n",
      "Epoch 84/100\n",
      "44/44 [==============================] - 39s 874ms/step - loss: 0.0077 - accuracy: 0.9973 - val_loss: 0.1669 - val_accuracy: 0.9784\n",
      "\n",
      "Epoch 00084: val_accuracy did not improve from 0.98148\n",
      "Epoch 85/100\n",
      "44/44 [==============================] - 39s 882ms/step - loss: 0.0059 - accuracy: 0.9973 - val_loss: 0.1731 - val_accuracy: 0.9660\n",
      "\n",
      "Epoch 00085: val_accuracy did not improve from 0.98148\n",
      "Epoch 86/100\n",
      "44/44 [==============================] - 39s 879ms/step - loss: 0.0022 - accuracy: 0.9996 - val_loss: 0.1298 - val_accuracy: 0.9722\n",
      "\n",
      "Epoch 00086: val_accuracy did not improve from 0.98148\n",
      "Epoch 87/100\n",
      "44/44 [==============================] - 39s 884ms/step - loss: 0.0023 - accuracy: 1.0000 - val_loss: 0.1071 - val_accuracy: 0.9846\n",
      "\n",
      "Epoch 00087: val_accuracy improved from 0.98148 to 0.98457, saving model to ./Bird-Classifier-Model-Checkpoint.ckpt\n",
      "Epoch 88/100\n",
      "44/44 [==============================] - 39s 880ms/step - loss: 0.0046 - accuracy: 0.9996 - val_loss: 0.1210 - val_accuracy: 0.9753\n",
      "\n",
      "Epoch 00088: val_accuracy did not improve from 0.98457\n",
      "Epoch 89/100\n",
      "44/44 [==============================] - 39s 877ms/step - loss: 0.0038 - accuracy: 0.9985 - val_loss: 0.1416 - val_accuracy: 0.9722\n",
      "\n",
      "Epoch 00089: val_accuracy did not improve from 0.98457\n",
      "Epoch 90/100\n",
      "44/44 [==============================] - 39s 881ms/step - loss: 0.0069 - accuracy: 0.9981 - val_loss: 0.2052 - val_accuracy: 0.9537\n",
      "\n",
      "Epoch 00090: val_accuracy did not improve from 0.98457\n",
      "Epoch 91/100\n",
      "44/44 [==============================] - 39s 876ms/step - loss: 0.0051 - accuracy: 0.9977 - val_loss: 0.1246 - val_accuracy: 0.9784\n",
      "\n",
      "Epoch 00091: val_accuracy did not improve from 0.98457\n",
      "Epoch 92/100\n",
      "44/44 [==============================] - 39s 877ms/step - loss: 0.0025 - accuracy: 1.0000 - val_loss: 0.1371 - val_accuracy: 0.9815\n",
      "\n",
      "Epoch 00092: val_accuracy did not improve from 0.98457\n",
      "Epoch 93/100\n",
      "44/44 [==============================] - 39s 870ms/step - loss: 0.0025 - accuracy: 0.9992 - val_loss: 0.0992 - val_accuracy: 0.9815\n",
      "\n",
      "Epoch 00093: val_accuracy did not improve from 0.98457\n",
      "Epoch 94/100\n",
      "44/44 [==============================] - 39s 884ms/step - loss: 0.0065 - accuracy: 0.9973 - val_loss: 0.1222 - val_accuracy: 0.9753\n",
      "\n",
      "Epoch 00094: val_accuracy did not improve from 0.98457\n",
      "Epoch 95/100\n",
      "44/44 [==============================] - 38s 859ms/step - loss: 0.0058 - accuracy: 0.9988 - val_loss: 0.1155 - val_accuracy: 0.9784\n",
      "\n",
      "Epoch 00095: val_accuracy did not improve from 0.98457\n",
      "Epoch 96/100\n",
      "44/44 [==============================] - 39s 875ms/step - loss: 0.0156 - accuracy: 0.9961 - val_loss: 0.1515 - val_accuracy: 0.9815\n",
      "\n",
      "Epoch 00096: val_accuracy did not improve from 0.98457\n",
      "Epoch 97/100\n",
      "44/44 [==============================] - 39s 872ms/step - loss: 0.0055 - accuracy: 0.9981 - val_loss: 0.1713 - val_accuracy: 0.9753\n",
      "\n",
      "Epoch 00097: val_accuracy did not improve from 0.98457\n",
      "Epoch 98/100\n",
      "44/44 [==============================] - 39s 875ms/step - loss: 0.0128 - accuracy: 0.9954 - val_loss: 0.1846 - val_accuracy: 0.9660\n",
      "\n",
      "Epoch 00098: val_accuracy did not improve from 0.98457\n",
      "Epoch 99/100\n",
      "44/44 [==============================] - 39s 875ms/step - loss: 0.0196 - accuracy: 0.9923 - val_loss: 0.1236 - val_accuracy: 0.9691\n",
      "\n",
      "Epoch 00099: val_accuracy did not improve from 0.98457\n",
      "Epoch 100/100\n",
      "44/44 [==============================] - 38s 861ms/step - loss: 0.0121 - accuracy: 0.9965 - val_loss: 0.1399 - val_accuracy: 0.9630\n",
      "\n",
      "Epoch 00100: val_accuracy did not improve from 0.98457\n"
     ]
    }
   ],
   "source": [
    "hist = model.fit(train_gen,validation_data=valid_gen, epochs=100, callbacks=callbacks )"
   ]
  },
  {
   "cell_type": "markdown",
   "id": "ab81b221",
   "metadata": {
    "papermill": {
     "duration": 0.428207,
     "end_time": "2023-11-21T20:10:06.570627",
     "exception": false,
     "start_time": "2023-11-21T20:10:06.142420",
     "status": "completed"
    },
    "tags": []
   },
   "source": [
    "**Evaluate the model**"
   ]
  },
  {
   "cell_type": "code",
   "execution_count": 12,
   "id": "cca761fa",
   "metadata": {
    "execution": {
     "iopub.execute_input": "2023-11-21T20:10:07.288506Z",
     "iopub.status.busy": "2023-11-21T20:10:07.287612Z",
     "iopub.status.idle": "2023-11-21T20:10:10.775300Z",
     "shell.execute_reply": "2023-11-21T20:10:10.774282Z"
    },
    "papermill": {
     "duration": 3.850215,
     "end_time": "2023-11-21T20:10:10.777364",
     "exception": false,
     "start_time": "2023-11-21T20:10:06.927149",
     "status": "completed"
    },
    "tags": []
   },
   "outputs": [
    {
     "name": "stdout",
     "output_type": "stream",
     "text": [
      "6/6 [==============================] - 3s 437ms/step - loss: 0.0177 - accuracy: 0.9938\n",
      "\n",
      "\u001b[1mThe model had an accuracy score of 99.4%!!\u001b[0m\n"
     ]
    }
   ],
   "source": [
    "model.load_weights(MODEL_CHECKPOINT_FILEPATH)\n",
    "\n",
    "test_loss, test_accuracy = model.evaluate(test_gen)\n",
    "\n",
    "print('\\n\\033[1m' + 'The model had an accuracy score of {}%!!'.format(round(100*test_accuracy,1)) + '\\033[0m')"
   ]
  },
  {
   "cell_type": "code",
   "execution_count": 13,
   "id": "1b9d065e",
   "metadata": {
    "execution": {
     "iopub.execute_input": "2023-11-21T20:10:11.512069Z",
     "iopub.status.busy": "2023-11-21T20:10:11.511645Z",
     "iopub.status.idle": "2023-11-21T20:10:11.853805Z",
     "shell.execute_reply": "2023-11-21T20:10:11.852760Z"
    },
    "papermill": {
     "duration": 0.716041,
     "end_time": "2023-11-21T20:10:11.856358",
     "exception": false,
     "start_time": "2023-11-21T20:10:11.140317",
     "status": "completed"
    },
    "tags": []
   },
   "outputs": [
    {
     "data": {
      "image/png": "[encoded data removed]",
      "text/plain": [
       "<Figure size 432x288 with 1 Axes>"
      ]
     },
     "metadata": {},
     "output_type": "display_data"
    }
   ],
   "source": [
    "import matplotlib.pyplot as plt\n",
    "\n",
    "# Plot the training and validation accuracy\n",
    "plt.plot(hist.history['accuracy'])\n",
    "plt.plot(hist.history['val_accuracy'])\n",
    "plt.title('Training and Validation Accuracy')\n",
    "plt.xlabel('Epoch')\n",
    "plt.ylabel('Accuracy')\n",
    "plt.legend(['Training Accuracy', 'Validation Accuracy'], loc='upper right')\n",
    "plt.show()\n"
   ]
  },
  {
   "cell_type": "code",
   "execution_count": null,
   "id": "2e531efe",
   "metadata": {
    "papermill": {
     "duration": 0.378319,
     "end_time": "2023-11-21T20:10:12.595009",
     "exception": false,
     "start_time": "2023-11-21T20:10:12.216690",
     "status": "completed"
    },
    "tags": []
   },
   "outputs": [],
   "source": []
  }
 ],
 "metadata": {
  "kaggle": {
   "accelerator": "nvidiaTeslaT4",
   "dataSources": [
    {
     "datasetId": 2022386,
     "sourceId": 3471575,
     "sourceType": "datasetVersion"
    }
   ],
   "dockerImageVersionId": 30381,
   "isGpuEnabled": true,
   "isInternetEnabled": true,
   "language": "python",
   "sourceType": "notebook"
  },
  "kernelspec": {
   "display_name": "Python 3",
   "language": "python",
   "name": "python3"
  },
  "language_info": {
   "codemirror_mode": {
    "name": "ipython",
    "version": 3
   },
   "file_extension": ".py",
   "mimetype": "text/x-python",
   "name": "python",
   "nbconvert_exporter": "python",
   "pygments_lexer": "ipython3",
   "version": "3.7.12"
  },
  "papermill": {
   "default_parameters": {},
   "duration": 3983.427141,
   "end_time": "2023-11-21T20:10:16.392982",
   "environment_variables": {},
   "exception": null,
   "input_path": "__notebook__.ipynb",
   "output_path": "__notebook__.ipynb",
   "parameters": {},
   "start_time": "2023-11-21T19:03:52.965841",
   "version": "2.3.4"
  }
 },
 "nbformat": 4,
 "nbformat_minor": 5
}
