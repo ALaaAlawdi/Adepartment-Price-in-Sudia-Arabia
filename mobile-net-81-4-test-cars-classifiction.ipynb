{
 "cells": [
  {
   "cell_type": "markdown",
   "id": "5dc1f8e7",
   "metadata": {
    "papermill": {
     "duration": 0.009334,
     "end_time": "2023-11-27T19:33:51.173276",
     "exception": false,
     "start_time": "2023-11-27T19:33:51.163942",
     "status": "completed"
    },
    "tags": []
   },
   "source": [
    "# **Car Classifictions**"
   ]
  },
  {
   "cell_type": "markdown",
   "id": "398a21fa",
   "metadata": {
    "papermill": {
     "duration": 0.007991,
     "end_time": "2023-11-27T19:33:51.189521",
     "exception": false,
     "start_time": "2023-11-27T19:33:51.181530",
     "status": "completed"
    },
    "tags": []
   },
   "source": [
    "# Import necessary libraries"
   ]
  },
  {
   "cell_type": "code",
   "execution_count": 1,
   "id": "b1f75718",
   "metadata": {
    "execution": {
     "iopub.execute_input": "2023-11-27T19:33:51.207157Z",
     "iopub.status.busy": "2023-11-27T19:33:51.206699Z",
     "iopub.status.idle": "2023-11-27T19:33:57.432955Z",
     "shell.execute_reply": "2023-11-27T19:33:57.431910Z"
    },
    "papermill": {
     "duration": 6.238,
     "end_time": "2023-11-27T19:33:57.435531",
     "exception": false,
     "start_time": "2023-11-27T19:33:51.197531",
     "status": "completed"
    },
    "tags": []
   },
   "outputs": [],
   "source": [
    "import numpy as np\n",
    "import pandas as pd\n",
    "import time\n",
    "from sklearn.model_selection import train_test_split\n",
    "import matplotlib.pyplot as plt\n",
    "from matplotlib.pyplot import imshow\n",
    "import os\n",
    "import cv2\n",
    "import seaborn as sns\n",
    "import shutil\n",
    "import tensorflow as tf\n",
    "from tensorflow import keras\n",
    "from tensorflow.keras import backend as K\n",
    "from tensorflow.keras.layers import Dense, Activation, Dropout, Conv2D, MaxPooling2D, BatchNormalization\n",
    "from tensorflow.keras.optimizers import Adam, Adamax\n",
    "from tensorflow.keras.metrics import categorical_crossentropy\n",
    "from tensorflow.keras import regularizers\n",
    "from tensorflow.keras.preprocessing.image import ImageDataGenerator\n",
    "from tensorflow.keras.models import Model, load_model, Sequential\n",
    "from tensorflow.keras.layers import Dense, Flatten, Conv2D, MaxPooling2D, Dropout\n",
    "from tensorflow.keras.models import Model, Sequential\n",
    "from tensorflow.keras.layers.experimental.preprocessing import Rescaling\n",
    "from tensorflow.keras.callbacks import EarlyStopping\n",
    "from tensorflow.keras.preprocessing import image_dataset_from_directory\n",
    "from tensorflow.keras.layers import Input , Dense , Flatten , GlobalAveragePooling2D\n",
    "from tensorflow.keras.models import Sequential\n",
    "from tensorflow.keras.callbacks import ModelCheckpoint\n",
    "# Set the style for plots\n",
    "sns.set_style('darkgrid')\n",
    "# Import confusion matrix and classification report for later evaluation\n",
    "from sklearn.metrics import confusion_matrix, classification_report"
   ]
  },
  {
   "cell_type": "code",
   "execution_count": 2,
   "id": "ffaf1cb1",
   "metadata": {
    "execution": {
     "iopub.execute_input": "2023-11-27T19:33:57.454373Z",
     "iopub.status.busy": "2023-11-27T19:33:57.453788Z",
     "iopub.status.idle": "2023-11-27T19:33:57.460302Z",
     "shell.execute_reply": "2023-11-27T19:33:57.459410Z"
    },
    "papermill": {
     "duration": 0.01834,
     "end_time": "2023-11-27T19:33:57.462579",
     "exception": false,
     "start_time": "2023-11-27T19:33:57.444239",
     "status": "completed"
    },
    "tags": []
   },
   "outputs": [],
   "source": [
    "FILEPATH = 'Dataset/' # filepath for data\n",
    "BATCH_SIZE = 64# keras training batch size\n",
    "IMAGE_SIZE = (224, 224) # size of images in dataset (keras will resize)\n",
    "\n",
    "\n",
    "ROUND_1_TRAINABLE_LAYERS = 0 # layers at end of the mobile_net base model to have trainable parameters\n",
    "ROUND_1_EPOCHS = 10\n",
    "\n",
    "ROUND_2_TRAINABLE_LAYERS = 38\n",
    "ROUND_2_LEARNING_SCALER = 0.2\n",
    "ROUND_2_EPOCHS = 10\n",
    "\n",
    "ROUND_3_TRAINABLE_LAYERS = 74\n",
    "ROUND_3_LEARNING_SCALER = 0.2\n",
    "ROUND_3_EPOCHS = 10\n",
    "\n",
    "LEARNING_RATE = 0.0001\n",
    "\n",
    "MODEL_CHECKPOINT_FILEPATH = './Bird-Classifier-Model-Checkpoint.ckpt'\n",
    "\n",
    "SEED = 6278 # random seed for repeatability of notebook"
   ]
  },
  {
   "cell_type": "markdown",
   "id": "928f092f",
   "metadata": {
    "papermill": {
     "duration": 0.008573,
     "end_time": "2023-11-27T19:33:57.480246",
     "exception": false,
     "start_time": "2023-11-27T19:33:57.471673",
     "status": "completed"
    },
    "tags": []
   },
   "source": [
    "# Data Processing: \n"
   ]
  },
  {
   "cell_type": "markdown",
   "id": "2384b0b6",
   "metadata": {
    "papermill": {
     "duration": 0.009726,
     "end_time": "2023-11-27T19:33:57.499185",
     "exception": false,
     "start_time": "2023-11-27T19:33:57.489459",
     "status": "completed"
    },
    "tags": []
   },
   "source": [
    "**Set the path for the dataset**"
   ]
  },
  {
   "cell_type": "code",
   "execution_count": 3,
   "id": "72cb6123",
   "metadata": {
    "execution": {
     "iopub.execute_input": "2023-11-27T19:33:57.519209Z",
     "iopub.status.busy": "2023-11-27T19:33:57.518870Z",
     "iopub.status.idle": "2023-11-27T19:33:58.548541Z",
     "shell.execute_reply": "2023-11-27T19:33:58.547485Z"
    },
    "papermill": {
     "duration": 1.04291,
     "end_time": "2023-11-27T19:33:58.551154",
     "exception": false,
     "start_time": "2023-11-27T19:33:57.508244",
     "status": "completed"
    },
    "tags": []
   },
   "outputs": [
    {
     "name": "stdout",
     "output_type": "stream",
     "text": [
      "filepaths:  3235    labels:  3235\n"
     ]
    }
   ],
   "source": [
    "path = '/kaggle/input/algerian-used-cars/dataset/DATA'\n",
    "filepaths = []\n",
    "labels = []\n",
    "\n",
    "# Loop through the directories and files to get file paths and labels\n",
    "for label in os.listdir(path):\n",
    "    for i in os.listdir(path+\"/\"+label):\n",
    "        filepaths.append(path+\"/\"+label+'/'+i)\n",
    "        labels.append(label)\n",
    "\n",
    "# Display the count of labels\n",
    "print ('filepaths: ', len(filepaths), '   labels: ', len(labels))\n",
    "pd.Series(labels).value_counts()\n",
    "\n",
    "# Save file paths and labels in a DataFrame\n",
    "Fseries = pd.Series(filepaths, name='filepaths')\n",
    "Lseries = pd.Series(labels, name='labels')\n",
    "df = pd.concat([Fseries, Lseries], axis=1)"
   ]
  },
  {
   "cell_type": "code",
   "execution_count": 4,
   "id": "2a7e4d36",
   "metadata": {
    "execution": {
     "iopub.execute_input": "2023-11-27T19:33:58.569667Z",
     "iopub.status.busy": "2023-11-27T19:33:58.569372Z",
     "iopub.status.idle": "2023-11-27T19:33:58.576427Z",
     "shell.execute_reply": "2023-11-27T19:33:58.575497Z"
    },
    "papermill": {
     "duration": 0.019504,
     "end_time": "2023-11-27T19:33:58.579064",
     "exception": false,
     "start_time": "2023-11-27T19:33:58.559560",
     "status": "completed"
    },
    "tags": []
   },
   "outputs": [
    {
     "name": "stdout",
     "output_type": "stream",
     "text": [
      "clio                 344\n",
      "megane               280\n",
      "duster               280\n",
      "sandero              260\n",
      "volkswagen tiguan    184\n",
      "picanto              178\n",
      "Golf                 160\n",
      "symbol               158\n",
      "octavia              156\n",
      "toyota corolla       150\n",
      "polo                 132\n",
      "hyundai i10          130\n",
      "chevroulet aveo      129\n",
      "hyundai tucson       128\n",
      "logan                112\n",
      "chevrolet spark      108\n",
      "seat ibiza           100\n",
      "mercedes class a      84\n",
      "bmw serie 1           82\n",
      "nemo citroen          80\n",
      "Name: labels, dtype: int64\n"
     ]
    }
   ],
   "source": [
    "# Display the count of labels in the DataFrame\n",
    "balance = df['labels'].value_counts()\n",
    "print(balance)"
   ]
  },
  {
   "cell_type": "markdown",
   "id": "5bc24c23",
   "metadata": {
    "papermill": {
     "duration": 0.008737,
     "end_time": "2023-11-27T19:33:58.596146",
     "exception": false,
     "start_time": "2023-11-27T19:33:58.587409",
     "status": "completed"
    },
    "tags": []
   },
   "source": [
    "**Split the dataset into train, valid, and test sets**"
   ]
  },
  {
   "cell_type": "code",
   "execution_count": 5,
   "id": "9885c212",
   "metadata": {
    "execution": {
     "iopub.execute_input": "2023-11-27T19:33:58.614882Z",
     "iopub.status.busy": "2023-11-27T19:33:58.614528Z",
     "iopub.status.idle": "2023-11-27T19:33:58.619776Z",
     "shell.execute_reply": "2023-11-27T19:33:58.618878Z"
    },
    "papermill": {
     "duration": 0.016848,
     "end_time": "2023-11-27T19:33:58.621879",
     "exception": false,
     "start_time": "2023-11-27T19:33:58.605031",
     "status": "completed"
    },
    "tags": []
   },
   "outputs": [],
   "source": [
    "height = 224\n",
    "width = 224\n",
    "channels = 3\n",
    "batch_size = 60\n",
    "img_shape = (height, width, channels)\n",
    "img_size = (height, width)\n",
    "train_split = 0.8\n",
    "test_split = 0.1"
   ]
  },
  {
   "cell_type": "markdown",
   "id": "2d247546",
   "metadata": {
    "papermill": {
     "duration": 0.008201,
     "end_time": "2023-11-27T19:33:58.638885",
     "exception": false,
     "start_time": "2023-11-27T19:33:58.630684",
     "status": "completed"
    },
    "tags": []
   },
   "source": [
    "**Split the dataset**"
   ]
  },
  {
   "cell_type": "code",
   "execution_count": 6,
   "id": "072c6a9d",
   "metadata": {
    "execution": {
     "iopub.execute_input": "2023-11-27T19:33:58.660086Z",
     "iopub.status.busy": "2023-11-27T19:33:58.659805Z",
     "iopub.status.idle": "2023-11-27T19:33:58.670659Z",
     "shell.execute_reply": "2023-11-27T19:33:58.669585Z"
    },
    "papermill": {
     "duration": 0.02285,
     "end_time": "2023-11-27T19:33:58.672951",
     "exception": false,
     "start_time": "2023-11-27T19:33:58.650101",
     "status": "completed"
    },
    "tags": []
   },
   "outputs": [
    {
     "name": "stdout",
     "output_type": "stream",
     "text": [
      "Train set size: 2588 | Test set size: 323 | Valid set size: 324\n"
     ]
    }
   ],
   "source": [
    "# Split the dataset using train_test_split\n",
    "train_df, dummy_df = train_test_split(df, train_size=train_split, shuffle=True, random_state=123)\n",
    "test_df, valid_df = train_test_split(dummy_df, train_size=test_split/(1-train_split), shuffle=True, random_state=123)\n",
    "\n",
    "# Display the sizes of train, test, and valid sets\n",
    "print(\"Train set size:\", len(train_df), \"| Test set size:\", len(test_df), \"| Valid set size:\", len(valid_df))"
   ]
  },
  {
   "cell_type": "code",
   "execution_count": 7,
   "id": "d373c827",
   "metadata": {
    "execution": {
     "iopub.execute_input": "2023-11-27T19:33:58.691337Z",
     "iopub.status.busy": "2023-11-27T19:33:58.691059Z",
     "iopub.status.idle": "2023-11-27T19:33:58.698421Z",
     "shell.execute_reply": "2023-11-27T19:33:58.697085Z"
    },
    "papermill": {
     "duration": 0.018821,
     "end_time": "2023-11-27T19:33:58.700485",
     "exception": false,
     "start_time": "2023-11-27T19:33:58.681664",
     "status": "completed"
    },
    "tags": []
   },
   "outputs": [
    {
     "name": "stdout",
     "output_type": "stream",
     "text": [
      "Label distribution in the training set:\n",
      " clio                 263\n",
      "megane               233\n",
      "duster               225\n",
      "sandero              208\n",
      "picanto              143\n",
      "symbol               137\n",
      "volkswagen tiguan    134\n",
      "octavia              134\n",
      "Golf                 129\n",
      "toyota corolla       126\n",
      "hyundai i10          106\n",
      "polo                 105\n",
      "chevroulet aveo      105\n",
      "hyundai tucson        96\n",
      "logan                 86\n",
      "chevrolet spark       83\n",
      "seat ibiza            77\n",
      "bmw serie 1           67\n",
      "nemo citroen          66\n",
      "mercedes class a      65\n",
      "Name: labels, dtype: int64\n"
     ]
    }
   ],
   "source": [
    "# Display the count of labels in the train set\n",
    "print(\"Label distribution in the training set:\\n\", train_df['labels'].value_counts())"
   ]
  },
  {
   "cell_type": "markdown",
   "id": "6fabe6b5",
   "metadata": {
    "papermill": {
     "duration": 0.008335,
     "end_time": "2023-11-27T19:33:58.717552",
     "exception": false,
     "start_time": "2023-11-27T19:33:58.709217",
     "status": "completed"
    },
    "tags": []
   },
   "source": [
    "**Image Data Generator**"
   ]
  },
  {
   "cell_type": "code",
   "execution_count": 8,
   "id": "ee584a92",
   "metadata": {
    "execution": {
     "iopub.execute_input": "2023-11-27T19:33:58.735811Z",
     "iopub.status.busy": "2023-11-27T19:33:58.735518Z",
     "iopub.status.idle": "2023-11-27T19:33:58.799663Z",
     "shell.execute_reply": "2023-11-27T19:33:58.798572Z"
    },
    "papermill": {
     "duration": 0.075651,
     "end_time": "2023-11-27T19:33:58.801864",
     "exception": false,
     "start_time": "2023-11-27T19:33:58.726213",
     "status": "completed"
    },
    "tags": []
   },
   "outputs": [
    {
     "name": "stdout",
     "output_type": "stream",
     "text": [
      "Found 2588 validated image filenames belonging to 20 classes.\n",
      "Found 323 validated image filenames belonging to 20 classes.\n",
      "Found 324 validated image filenames belonging to 20 classes.\n"
     ]
    }
   ],
   "source": [
    "# Generate train, test, and valid sets using ImageDataGenerator\n",
    "def scalar(img):\n",
    "    return img/127.5-1  # scale pixel between -1 and +1\n",
    "\n",
    "# Create ImageDataGenerator for training set with augmentation\n",
    "trgen = ImageDataGenerator(preprocessing_function=scalar, \n",
    "                           horizontal_flip=True, \n",
    "                           rotation_range=40,\n",
    "                           width_shift_range=0.2,\n",
    "                           height_shift_range=0.2,\n",
    "                           shear_range=0.2,\n",
    "                           zoom_range=0.2,\n",
    "                           validation_split=0.2,\n",
    "                           fill_mode='nearest')\n",
    "\n",
    "# Create ImageDataGenerators for test and validation sets without augmentation\n",
    "tvgen = ImageDataGenerator(preprocessing_function=scalar)\n",
    "train_gen = trgen.flow_from_dataframe(train_df, \n",
    "                                     x_col='filepaths', \n",
    "                                     y_col='labels', \n",
    "                                     target_size=img_size, \n",
    "                                     class_mode='categorical',\n",
    "                                     color_mode='rgb', \n",
    "                                     shuffle=False, \n",
    "                                     batch_size=batch_size)\n",
    "\n",
    "test_gen = tvgen.flow_from_dataframe(test_df, \n",
    "                                    x_col='filepaths', \n",
    "                                    y_col='labels', \n",
    "                                    target_size=img_size, \n",
    "                                    class_mode='categorical',\n",
    "                                    color_mode='rgb', \n",
    "                                    shuffle=False, \n",
    "                                    batch_size=batch_size)\n",
    "\n",
    "valid_gen = tvgen.flow_from_dataframe(valid_df, \n",
    "                                     x_col='filepaths', \n",
    "                                     y_col='labels', \n",
    "                                     target_size=img_size, \n",
    "                                     class_mode='categorical',\n",
    "                                     color_mode='rgb', \n",
    "                                     shuffle=False, \n",
    "                                     batch_size=batch_size)"
   ]
  },
  {
   "cell_type": "markdown",
   "id": "ee948418",
   "metadata": {
    "papermill": {
     "duration": 0.008536,
     "end_time": "2023-11-27T19:33:58.818965",
     "exception": false,
     "start_time": "2023-11-27T19:33:58.810429",
     "status": "completed"
    },
    "tags": []
   },
   "source": [
    "# Model Construction: "
   ]
  },
  {
   "cell_type": "code",
   "execution_count": 9,
   "id": "b46c9ff0",
   "metadata": {
    "execution": {
     "iopub.execute_input": "2023-11-27T19:33:58.836959Z",
     "iopub.status.busy": "2023-11-27T19:33:58.836650Z",
     "iopub.status.idle": "2023-11-27T19:34:03.448683Z",
     "shell.execute_reply": "2023-11-27T19:34:03.447787Z"
    },
    "papermill": {
     "duration": 4.623865,
     "end_time": "2023-11-27T19:34:03.451178",
     "exception": false,
     "start_time": "2023-11-27T19:33:58.827313",
     "status": "completed"
    },
    "tags": []
   },
   "outputs": [
    {
     "name": "stdout",
     "output_type": "stream",
     "text": [
      "Downloading data from https://storage.googleapis.com/tensorflow/keras-applications/mobilenet/mobilenet_1_0_224_tf_no_top.h5\n",
      "17227776/17225924 [==============================] - 0s 0us/step\n",
      "17235968/17225924 [==============================] - 0s 0us/step\n"
     ]
    }
   ],
   "source": [
    "# Build the model using MobileNet as the base model\n",
    "mobilenet = tf.keras.applications.mobilenet.MobileNet(input_shape=(224, 224, 3),\n",
    "                                                      include_top=False,\n",
    "                                                      weights='imagenet')\n",
    "\n",
    "# Create a sequential model\n",
    "model = Sequential()\n",
    "\n",
    "# Add MobileNet as the base model\n",
    "model.add(mobilenet)\n",
    "\n",
    "# Add GlobalAveragePooling2D layer\n",
    "model.add(GlobalAveragePooling2D())\n",
    "\n",
    "# Flatten the output\n",
    "model.add(Flatten())\n",
    "\n",
    "# Add Dense layers\n",
    "model.add(Dense(1024, activation=\"relu\"))\n",
    "model.add(Dense(512, activation=\"relu\"))\n",
    "\n",
    "# Add the output layer with softmax activation for classification\n",
    "model.add(Dense(20, activation=\"softmax\", name=\"classification\"))\n",
    "\n",
    "# Set optimizer, loss function, and metrics\n",
    "optimizer_1 = tf.keras.optimizers.Adam(learning_rate=LEARNING_RATE)\n",
    "loss = tf.keras.losses.CategoricalCrossentropy(from_logits=False)\n",
    "\n",
    "# Define model checkpoint to save the best model\n",
    "model_checkpoint = ModelCheckpoint(MODEL_CHECKPOINT_FILEPATH,\n",
    "                                   monitor='val_accuracy',\n",
    "                                   save_best_only=True,\n",
    "                                   save_weights_only=True,\n",
    "                                   verbose=1,\n",
    "                                   mode='max')\n",
    "\n",
    "# Compile the model\n",
    "model.compile(optimizer=optimizer_1, loss=loss, metrics=['accuracy'])"
   ]
  },
  {
   "cell_type": "markdown",
   "id": "114eee86",
   "metadata": {
    "papermill": {
     "duration": 0.008847,
     "end_time": "2023-11-27T19:34:03.469323",
     "exception": false,
     "start_time": "2023-11-27T19:34:03.460476",
     "status": "completed"
    },
    "tags": []
   },
   "source": [
    "# Training and Evaluation: \n"
   ]
  },
  {
   "cell_type": "code",
   "execution_count": 10,
   "id": "58d72e08",
   "metadata": {
    "execution": {
     "iopub.execute_input": "2023-11-27T19:34:03.488388Z",
     "iopub.status.busy": "2023-11-27T19:34:03.488025Z",
     "iopub.status.idle": "2023-11-27T19:40:33.173952Z",
     "shell.execute_reply": "2023-11-27T19:40:33.172803Z"
    },
    "papermill": {
     "duration": 389.699036,
     "end_time": "2023-11-27T19:40:33.177102",
     "exception": false,
     "start_time": "2023-11-27T19:34:03.478066",
     "status": "completed"
    },
    "tags": []
   },
   "outputs": [
    {
     "name": "stdout",
     "output_type": "stream",
     "text": [
      "Epoch 1/10\n",
      "44/44 [==============================] - 57s 1s/step - loss: 2.5111 - accuracy: 0.2790 - val_loss: 2.2761 - val_accuracy: 0.3333\n",
      "\n",
      "Epoch 00001: val_accuracy improved from -inf to 0.33333, saving model to ./Bird-Classifier-Model-Checkpoint.ckpt\n",
      "Epoch 2/10\n",
      "44/44 [==============================] - 37s 832ms/step - loss: 1.4490 - accuracy: 0.6086 - val_loss: 1.5986 - val_accuracy: 0.5648\n",
      "\n",
      "Epoch 00002: val_accuracy improved from 0.33333 to 0.56481, saving model to ./Bird-Classifier-Model-Checkpoint.ckpt\n",
      "Epoch 3/10\n",
      "44/44 [==============================] - 37s 839ms/step - loss: 0.7605 - accuracy: 0.7852 - val_loss: 1.1402 - val_accuracy: 0.6821\n",
      "\n",
      "Epoch 00003: val_accuracy improved from 0.56481 to 0.68210, saving model to ./Bird-Classifier-Model-Checkpoint.ckpt\n",
      "Epoch 4/10\n",
      "44/44 [==============================] - 37s 825ms/step - loss: 0.4431 - accuracy: 0.8845 - val_loss: 0.7191 - val_accuracy: 0.7963\n",
      "\n",
      "Epoch 00004: val_accuracy improved from 0.68210 to 0.79630, saving model to ./Bird-Classifier-Model-Checkpoint.ckpt\n",
      "Epoch 5/10\n",
      "44/44 [==============================] - 37s 828ms/step - loss: 0.2921 - accuracy: 0.9250 - val_loss: 0.4730 - val_accuracy: 0.8549\n",
      "\n",
      "Epoch 00005: val_accuracy improved from 0.79630 to 0.85494, saving model to ./Bird-Classifier-Model-Checkpoint.ckpt\n",
      "Epoch 6/10\n",
      "44/44 [==============================] - 36s 817ms/step - loss: 0.2071 - accuracy: 0.9463 - val_loss: 0.4079 - val_accuracy: 0.8611\n",
      "\n",
      "Epoch 00006: val_accuracy improved from 0.85494 to 0.86111, saving model to ./Bird-Classifier-Model-Checkpoint.ckpt\n",
      "Epoch 7/10\n",
      "44/44 [==============================] - 36s 818ms/step - loss: 0.1367 - accuracy: 0.9683 - val_loss: 0.3850 - val_accuracy: 0.8827\n",
      "\n",
      "Epoch 00007: val_accuracy improved from 0.86111 to 0.88272, saving model to ./Bird-Classifier-Model-Checkpoint.ckpt\n",
      "Epoch 8/10\n",
      "44/44 [==============================] - 36s 804ms/step - loss: 0.0982 - accuracy: 0.9780 - val_loss: 0.2825 - val_accuracy: 0.9074\n",
      "\n",
      "Epoch 00008: val_accuracy improved from 0.88272 to 0.90741, saving model to ./Bird-Classifier-Model-Checkpoint.ckpt\n",
      "Epoch 9/10\n",
      "44/44 [==============================] - 36s 819ms/step - loss: 0.0775 - accuracy: 0.9845 - val_loss: 0.2370 - val_accuracy: 0.9321\n",
      "\n",
      "Epoch 00009: val_accuracy improved from 0.90741 to 0.93210, saving model to ./Bird-Classifier-Model-Checkpoint.ckpt\n",
      "Epoch 10/10\n",
      "44/44 [==============================] - 36s 808ms/step - loss: 0.0695 - accuracy: 0.9826 - val_loss: 0.2116 - val_accuracy: 0.9383\n",
      "\n",
      "Epoch 00010: val_accuracy improved from 0.93210 to 0.93827, saving model to ./Bird-Classifier-Model-Checkpoint.ckpt\n"
     ]
    }
   ],
   "source": [
    "# Train the model with the training and validation sets\n",
    "hist = model.fit(train_gen, validation_data=valid_gen, epochs=10, callbacks=[model_checkpoint])"
   ]
  },
  {
   "cell_type": "markdown",
   "id": "c098be22",
   "metadata": {
    "papermill": {
     "duration": 0.046356,
     "end_time": "2023-11-27T19:40:33.271385",
     "exception": false,
     "start_time": "2023-11-27T19:40:33.225029",
     "status": "completed"
    },
    "tags": []
   },
   "source": [
    "**Load the best weights**"
   ]
  },
  {
   "cell_type": "code",
   "execution_count": 11,
   "id": "0b5963f9",
   "metadata": {
    "execution": {
     "iopub.execute_input": "2023-11-27T19:40:33.364655Z",
     "iopub.status.busy": "2023-11-27T19:40:33.363596Z",
     "iopub.status.idle": "2023-11-27T19:40:33.878097Z",
     "shell.execute_reply": "2023-11-27T19:40:33.877031Z"
    },
    "papermill": {
     "duration": 0.564209,
     "end_time": "2023-11-27T19:40:33.880428",
     "exception": false,
     "start_time": "2023-11-27T19:40:33.316219",
     "status": "completed"
    },
    "tags": []
   },
   "outputs": [
    {
     "data": {
      "text/plain": [
       "<tensorflow.python.training.tracking.util.CheckpointLoadStatus at 0x788bd82d5390>"
      ]
     },
     "execution_count": 11,
     "metadata": {},
     "output_type": "execute_result"
    }
   ],
   "source": [
    "# Load the best weights from the model checkpoint\n",
    "model.load_weights(MODEL_CHECKPOINT_FILEPATH)"
   ]
  },
  {
   "cell_type": "markdown",
   "id": "a4cc451e",
   "metadata": {
    "papermill": {
     "duration": 0.04552,
     "end_time": "2023-11-27T19:40:33.975696",
     "exception": false,
     "start_time": "2023-11-27T19:40:33.930176",
     "status": "completed"
    },
    "tags": []
   },
   "source": [
    "**Evaluate the model**"
   ]
  },
  {
   "cell_type": "code",
   "execution_count": 12,
   "id": "b6428718",
   "metadata": {
    "execution": {
     "iopub.execute_input": "2023-11-27T19:40:34.067346Z",
     "iopub.status.busy": "2023-11-27T19:40:34.066993Z",
     "iopub.status.idle": "2023-11-27T19:40:36.462827Z",
     "shell.execute_reply": "2023-11-27T19:40:36.461684Z"
    },
    "papermill": {
     "duration": 2.442849,
     "end_time": "2023-11-27T19:40:36.465075",
     "exception": false,
     "start_time": "2023-11-27T19:40:34.022226",
     "status": "completed"
    },
    "tags": []
   },
   "outputs": [
    {
     "name": "stdout",
     "output_type": "stream",
     "text": [
      "6/6 [==============================] - 2s 345ms/step - loss: 0.1239 - accuracy: 0.9598\n",
      "\n",
      "\u001b[1mThe model had an accuracy score of 96.0%!!\u001b[0m\n"
     ]
    }
   ],
   "source": [
    "# Evaluate the model on the test set\n",
    "test_loss, test_accuracy = model.evaluate(test_gen)\n",
    "print('\\n\\033[1m' + 'The model had an accuracy score of {}%!!'.format(round(100*test_accuracy,1)) + '\\033[0m')"
   ]
  },
  {
   "cell_type": "markdown",
   "id": "2f2fb48f",
   "metadata": {
    "papermill": {
     "duration": 0.047446,
     "end_time": "2023-11-27T19:40:36.559818",
     "exception": false,
     "start_time": "2023-11-27T19:40:36.512372",
     "status": "completed"
    },
    "tags": []
   },
   "source": [
    "# Results and Analysis: "
   ]
  },
  {
   "cell_type": "markdown",
   "id": "69b56465",
   "metadata": {
    "papermill": {
     "duration": 0.043589,
     "end_time": "2023-11-27T19:40:36.647569",
     "exception": false,
     "start_time": "2023-11-27T19:40:36.603980",
     "status": "completed"
    },
    "tags": []
   },
   "source": [
    "**Plot the training and validation accuracy**"
   ]
  },
  {
   "cell_type": "code",
   "execution_count": 13,
   "id": "f9552d60",
   "metadata": {
    "execution": {
     "iopub.execute_input": "2023-11-27T19:40:36.737920Z",
     "iopub.status.busy": "2023-11-27T19:40:36.737086Z",
     "iopub.status.idle": "2023-11-27T19:40:37.197098Z",
     "shell.execute_reply": "2023-11-27T19:40:37.196098Z"
    },
    "papermill": {
     "duration": 0.507317,
     "end_time": "2023-11-27T19:40:37.199240",
     "exception": false,
     "start_time": "2023-11-27T19:40:36.691923",
     "status": "completed"
    },
    "tags": []
   },
   "outputs": [
    {
     "data": {
      "image/png": "[encoded data removed]",
      "text/plain": [
       "<Figure size 864x288 with 2 Axes>"
      ]
     },
     "metadata": {},
     "output_type": "display_data"
    }
   ],
   "source": [
    "# Plot the training and validation accuracy and loss\n",
    "plt.figure(figsize=(12, 4))\n",
    "plt.subplot(1, 2, 1)\n",
    "plt.plot(hist.history['accuracy'], label='Training Accuracy')\n",
    "plt.plot(hist.history['val_accuracy'], label='Validation Accuracy')\n",
    "plt.title('Training and Validation Accuracy')\n",
    "plt.xlabel('Epoch')\n",
    "plt.ylabel('Accuracy')\n",
    "plt.legend()\n",
    "\n",
    "plt.subplot(1, 2, 2)\n",
    "plt.plot(hist.history['loss'], label='Training Loss')\n",
    "plt.plot(hist.history['val_loss'], label='Validation Loss')\n",
    "plt.title('Training and Validation Loss')\n",
    "plt.xlabel('Epoch')\n",
    "plt.ylabel('Loss')\n",
    "plt.legend()\n",
    "plt.tight_layout()\n",
    "plt.show()\n"
   ]
  },
  {
   "cell_type": "markdown",
   "id": "902d1ba3",
   "metadata": {
    "papermill": {
     "duration": 0.044035,
     "end_time": "2023-11-27T19:40:37.288059",
     "exception": false,
     "start_time": "2023-11-27T19:40:37.244024",
     "status": "completed"
    },
    "tags": []
   },
   "source": [
    "**Model Predict**"
   ]
  },
  {
   "cell_type": "code",
   "execution_count": 14,
   "id": "1c9972fa",
   "metadata": {
    "execution": {
     "iopub.execute_input": "2023-11-27T19:40:37.377022Z",
     "iopub.status.busy": "2023-11-27T19:40:37.376674Z",
     "iopub.status.idle": "2023-11-27T19:40:39.064266Z",
     "shell.execute_reply": "2023-11-27T19:40:39.063308Z"
    },
    "papermill": {
     "duration": 1.734801,
     "end_time": "2023-11-27T19:40:39.067077",
     "exception": false,
     "start_time": "2023-11-27T19:40:37.332276",
     "status": "completed"
    },
    "tags": []
   },
   "outputs": [],
   "source": [
    "# Get true labels for the test set\n",
    "y_true_classes = test_gen.classes\n",
    "\n",
    "# Predict the labels for the test set\n",
    "y_pred = model.predict(test_gen)\n",
    "y_pred_classes = np.argmax(y_pred, axis=1)"
   ]
  },
  {
   "cell_type": "markdown",
   "id": "6b6f370e",
   "metadata": {
    "papermill": {
     "duration": 0.043839,
     "end_time": "2023-11-27T19:40:39.159987",
     "exception": false,
     "start_time": "2023-11-27T19:40:39.116148",
     "status": "completed"
    },
    "tags": []
   },
   "source": [
    "**confusion matrix**"
   ]
  },
  {
   "cell_type": "code",
   "execution_count": 15,
   "id": "61a88c7a",
   "metadata": {
    "execution": {
     "iopub.execute_input": "2023-11-27T19:40:39.250479Z",
     "iopub.status.busy": "2023-11-27T19:40:39.249772Z",
     "iopub.status.idle": "2023-11-27T19:40:40.743661Z",
     "shell.execute_reply": "2023-11-27T19:40:40.742735Z"
    },
    "papermill": {
     "duration": 1.542336,
     "end_time": "2023-11-27T19:40:40.746358",
     "exception": false,
     "start_time": "2023-11-27T19:40:39.204022",
     "status": "completed"
    },
    "tags": []
   },
   "outputs": [
    {
     "data": {
      "image/png": "[encoded data removed]",
      "text/plain": [
       "<Figure size 576x432 with 1 Axes>"
      ]
     },
     "metadata": {},
     "output_type": "display_data"
    }
   ],
   "source": [
    "# Generate confusion matrix\n",
    "conf_matrix = confusion_matrix(y_true_classes, y_pred_classes)\n",
    "\n",
    "# Plot confusion matrix\n",
    "plt.figure(figsize=(8, 6))\n",
    "sns.heatmap(conf_matrix, annot=True, fmt='d', cmap='Blues', cbar=False)\n",
    "plt.title('Confusion Matrix')\n",
    "plt.xlabel('Predicted')\n",
    "plt.ylabel('True')\n",
    "plt.show()"
   ]
  },
  {
   "cell_type": "markdown",
   "id": "aa1681eb",
   "metadata": {
    "papermill": {
     "duration": 0.044211,
     "end_time": "2023-11-27T19:40:40.836698",
     "exception": false,
     "start_time": "2023-11-27T19:40:40.792487",
     "status": "completed"
    },
    "tags": []
   },
   "source": [
    "**classification report**"
   ]
  },
  {
   "cell_type": "code",
   "execution_count": 16,
   "id": "9427d635",
   "metadata": {
    "execution": {
     "iopub.execute_input": "2023-11-27T19:40:40.927776Z",
     "iopub.status.busy": "2023-11-27T19:40:40.927419Z",
     "iopub.status.idle": "2023-11-27T19:40:40.939409Z",
     "shell.execute_reply": "2023-11-27T19:40:40.938238Z"
    },
    "papermill": {
     "duration": 0.060572,
     "end_time": "2023-11-27T19:40:40.941576",
     "exception": false,
     "start_time": "2023-11-27T19:40:40.881004",
     "status": "completed"
    },
    "tags": []
   },
   "outputs": [
    {
     "name": "stdout",
     "output_type": "stream",
     "text": [
      "\n",
      "Classification Report:\n",
      "               precision    recall  f1-score   support\n",
      "\n",
      "           0       1.00      0.94      0.97        16\n",
      "           1       1.00      1.00      1.00         6\n",
      "           2       1.00      1.00      1.00        13\n",
      "           3       1.00      0.92      0.96        12\n",
      "           4       1.00      1.00      1.00        34\n",
      "           5       0.94      1.00      0.97        29\n",
      "           6       0.93      1.00      0.96        13\n",
      "           7       1.00      1.00      1.00        15\n",
      "           8       1.00      0.82      0.90        11\n",
      "           9       0.96      0.92      0.94        25\n",
      "          10       0.75      0.75      0.75         4\n",
      "          11       1.00      1.00      1.00         6\n",
      "          12       0.86      1.00      0.92        12\n",
      "          13       1.00      0.94      0.97        18\n",
      "          14       1.00      0.87      0.93        15\n",
      "          15       0.93      0.93      0.93        28\n",
      "          16       0.92      0.92      0.92        12\n",
      "          17       0.85      1.00      0.92        11\n",
      "          18       1.00      1.00      1.00        13\n",
      "          19       0.97      1.00      0.98        30\n",
      "\n",
      "    accuracy                           0.96       323\n",
      "   macro avg       0.95      0.95      0.95       323\n",
      "weighted avg       0.96      0.96      0.96       323\n",
      "\n"
     ]
    }
   ],
   "source": [
    "# Generate classification report\n",
    "class_report = classification_report(y_true_classes, y_pred_classes)\n",
    "\n",
    "# Display classification report\n",
    "print(\"\\nClassification Report:\\n\", class_report)"
   ]
  },
  {
   "cell_type": "code",
   "execution_count": null,
   "id": "50722794",
   "metadata": {
    "papermill": {
     "duration": 0.043875,
     "end_time": "2023-11-27T19:40:41.030142",
     "exception": false,
     "start_time": "2023-11-27T19:40:40.986267",
     "status": "completed"
    },
    "tags": []
   },
   "outputs": [],
   "source": []
  }
 ],
 "metadata": {
  "kaggle": {
   "accelerator": "nvidiaTeslaT4",
   "dataSources": [
    {
     "datasetId": 31559,
     "sourceId": 46697,
     "sourceType": "datasetVersion"
    },
    {
     "datasetId": 2022386,
     "sourceId": 3471575,
     "sourceType": "datasetVersion"
    }
   ],
   "dockerImageVersionId": 30381,
   "isGpuEnabled": true,
   "isInternetEnabled": true,
   "language": "python",
   "sourceType": "notebook"
  },
  "kernelspec": {
   "display_name": "Python 3",
   "language": "python",
   "name": "python3"
  },
  "language_info": {
   "codemirror_mode": {
    "name": "ipython",
    "version": 3
   },
   "file_extension": ".py",
   "mimetype": "text/x-python",
   "name": "python",
   "nbconvert_exporter": "python",
   "pygments_lexer": "ipython3",
   "version": "3.7.12"
  },
  "papermill": {
   "default_parameters": {},
   "duration": 422.550596,
   "end_time": "2023-11-27T19:40:44.694670",
   "environment_variables": {},
   "exception": null,
   "input_path": "__notebook__.ipynb",
   "output_path": "__notebook__.ipynb",
   "parameters": {},
   "start_time": "2023-11-27T19:33:42.144074",
   "version": "2.3.4"
  }
 },
 "nbformat": 4,
 "nbformat_minor": 5
}
