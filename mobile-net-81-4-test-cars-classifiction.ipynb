{
 "cells": [
  {
   "cell_type": "markdown",
   "id": "dcd144a0",
   "metadata": {
    "papermill": {
     "duration": 0.010273,
     "end_time": "2023-11-26T22:18:32.075442",
     "exception": false,
     "start_time": "2023-11-26T22:18:32.065169",
     "status": "completed"
    },
    "tags": []
   },
   "source": [
    "**Rocks Classifictions**"
   ]
  },
  {
   "cell_type": "markdown",
   "id": "36039d40",
   "metadata": {
    "papermill": {
     "duration": 0.008209,
     "end_time": "2023-11-26T22:18:32.092459",
     "exception": false,
     "start_time": "2023-11-26T22:18:32.084250",
     "status": "completed"
    },
    "tags": []
   },
   "source": [
    "# Import necessary libraries"
   ]
  },
  {
   "cell_type": "code",
   "execution_count": 1,
   "id": "af08c1bd",
   "metadata": {
    "execution": {
     "iopub.execute_input": "2023-11-26T22:18:32.110892Z",
     "iopub.status.busy": "2023-11-26T22:18:32.110502Z",
     "iopub.status.idle": "2023-11-26T22:18:39.612817Z",
     "shell.execute_reply": "2023-11-26T22:18:39.611899Z"
    },
    "papermill": {
     "duration": 7.514753,
     "end_time": "2023-11-26T22:18:39.615437",
     "exception": false,
     "start_time": "2023-11-26T22:18:32.100684",
     "status": "completed"
    },
    "tags": []
   },
   "outputs": [],
   "source": [
    "import numpy as np\n",
    "import pandas as pd\n",
    "import time\n",
    "from sklearn.model_selection import train_test_split\n",
    "import matplotlib.pyplot as plt\n",
    "from matplotlib.pyplot import imshow\n",
    "import os\n",
    "import cv2\n",
    "import seaborn as sns\n",
    "import shutil\n",
    "import tensorflow as tf\n",
    "from tensorflow import keras\n",
    "from tensorflow.keras import backend as K\n",
    "from tensorflow.keras.layers import Dense, Activation, Dropout, Conv2D, MaxPooling2D, BatchNormalization\n",
    "from tensorflow.keras.optimizers import Adam, Adamax\n",
    "from tensorflow.keras.metrics import categorical_crossentropy\n",
    "from tensorflow.keras import regularizers\n",
    "from tensorflow.keras.preprocessing.image import ImageDataGenerator\n",
    "from tensorflow.keras.models import Model, load_model, Sequential\n",
    "from tensorflow.keras.layers import Dense, Flatten, Conv2D, MaxPooling2D, Dropout\n",
    "from tensorflow.keras.models import Model, Sequential\n",
    "from tensorflow.keras.layers.experimental.preprocessing import Rescaling\n",
    "from tensorflow.keras.callbacks import EarlyStopping\n",
    "from tensorflow.keras.preprocessing import image_dataset_from_directory\n",
    "from tensorflow.keras.layers import Input , Dense , Flatten , GlobalAveragePooling2D\n",
    "from tensorflow.keras.models import Sequential\n",
    "from tensorflow.keras.callbacks import ModelCheckpoint\n",
    "# Set the style for plots\n",
    "sns.set_style('darkgrid')\n",
    "# Import confusion matrix and classification report for later evaluation\n",
    "from sklearn.metrics import confusion_matrix, classification_report"
   ]
  },
  {
   "cell_type": "markdown",
   "id": "885cd93c",
   "metadata": {
    "papermill": {
     "duration": 0.007696,
     "end_time": "2023-11-26T22:18:39.631226",
     "exception": false,
     "start_time": "2023-11-26T22:18:39.623530",
     "status": "completed"
    },
    "tags": []
   },
   "source": [
    "# Set the path for the dataset"
   ]
  },
  {
   "cell_type": "code",
   "execution_count": 2,
   "id": "09d6bb2b",
   "metadata": {
    "execution": {
     "iopub.execute_input": "2023-11-26T22:18:39.648510Z",
     "iopub.status.busy": "2023-11-26T22:18:39.647502Z",
     "iopub.status.idle": "2023-11-26T22:18:39.976650Z",
     "shell.execute_reply": "2023-11-26T22:18:39.975606Z"
    },
    "papermill": {
     "duration": 0.340575,
     "end_time": "2023-11-26T22:18:39.979350",
     "exception": false,
     "start_time": "2023-11-26T22:18:39.638775",
     "status": "completed"
    },
    "tags": []
   },
   "outputs": [
    {
     "name": "stdout",
     "output_type": "stream",
     "text": [
      "filepaths:  3235    labels:  3235\n"
     ]
    }
   ],
   "source": [
    "path = '/kaggle/input/algerian-used-cars/dataset/DATA'\n",
    "filepaths = []\n",
    "labels = []\n",
    "\n",
    "# Loop through the directories and files to get file paths and labels\n",
    "for label in os.listdir(path):\n",
    "    for i in os.listdir(path+\"/\"+label):\n",
    "        filepaths.append(path+\"/\"+label+'/'+i)\n",
    "        labels.append(label)\n",
    "\n",
    "# Display the count of labels\n",
    "print ('filepaths: ', len(filepaths), '   labels: ', len(labels))\n",
    "pd.Series(labels).value_counts()\n",
    "\n",
    "# Save file paths and labels in a DataFrame\n",
    "Fseries = pd.Series(filepaths, name='filepaths')\n",
    "Lseries = pd.Series(labels, name='labels')\n",
    "df = pd.concat([Fseries, Lseries], axis=1)"
   ]
  },
  {
   "cell_type": "code",
   "execution_count": 3,
   "id": "a1e1f6d3",
   "metadata": {
    "execution": {
     "iopub.execute_input": "2023-11-26T22:18:40.000531Z",
     "iopub.status.busy": "2023-11-26T22:18:39.999892Z",
     "iopub.status.idle": "2023-11-26T22:18:40.009001Z",
     "shell.execute_reply": "2023-11-26T22:18:40.007807Z"
    },
    "papermill": {
     "duration": 0.021595,
     "end_time": "2023-11-26T22:18:40.011089",
     "exception": false,
     "start_time": "2023-11-26T22:18:39.989494",
     "status": "completed"
    },
    "tags": []
   },
   "outputs": [
    {
     "name": "stdout",
     "output_type": "stream",
     "text": [
      "clio                 344\n",
      "megane               280\n",
      "duster               280\n",
      "sandero              260\n",
      "volkswagen tiguan    184\n",
      "picanto              178\n",
      "Golf                 160\n",
      "symbol               158\n",
      "octavia              156\n",
      "toyota corolla       150\n",
      "polo                 132\n",
      "hyundai i10          130\n",
      "chevroulet aveo      129\n",
      "hyundai tucson       128\n",
      "logan                112\n",
      "chevrolet spark      108\n",
      "seat ibiza           100\n",
      "mercedes class a      84\n",
      "bmw serie 1           82\n",
      "nemo citroen          80\n",
      "Name: labels, dtype: int64\n"
     ]
    }
   ],
   "source": [
    "# Display the count of labels in the DataFrame\n",
    "balance = df['labels'].value_counts()\n",
    "print(balance)"
   ]
  },
  {
   "cell_type": "markdown",
   "id": "1fa41d93",
   "metadata": {
    "papermill": {
     "duration": 0.007977,
     "end_time": "2023-11-26T22:18:40.026879",
     "exception": false,
     "start_time": "2023-11-26T22:18:40.018902",
     "status": "completed"
    },
    "tags": []
   },
   "source": [
    "# Split the dataset into train, valid, and test sets"
   ]
  },
  {
   "cell_type": "code",
   "execution_count": 4,
   "id": "3b7a4d77",
   "metadata": {
    "execution": {
     "iopub.execute_input": "2023-11-26T22:18:40.043941Z",
     "iopub.status.busy": "2023-11-26T22:18:40.043651Z",
     "iopub.status.idle": "2023-11-26T22:18:40.049023Z",
     "shell.execute_reply": "2023-11-26T22:18:40.048094Z"
    },
    "papermill": {
     "duration": 0.016273,
     "end_time": "2023-11-26T22:18:40.051170",
     "exception": false,
     "start_time": "2023-11-26T22:18:40.034897",
     "status": "completed"
    },
    "tags": []
   },
   "outputs": [],
   "source": [
    "height = 224\n",
    "width = 224\n",
    "channels = 3\n",
    "batch_size = 60\n",
    "img_shape = (height, width, channels)\n",
    "img_size = (height, width)\n",
    "train_split = 0.8\n",
    "test_split = 0.1"
   ]
  },
  {
   "cell_type": "markdown",
   "id": "865465c5",
   "metadata": {
    "papermill": {
     "duration": 0.007786,
     "end_time": "2023-11-26T22:18:40.066819",
     "exception": false,
     "start_time": "2023-11-26T22:18:40.059033",
     "status": "completed"
    },
    "tags": []
   },
   "source": [
    "# Split the dataset"
   ]
  },
  {
   "cell_type": "code",
   "execution_count": 5,
   "id": "29477456",
   "metadata": {
    "execution": {
     "iopub.execute_input": "2023-11-26T22:18:40.085005Z",
     "iopub.status.busy": "2023-11-26T22:18:40.084710Z",
     "iopub.status.idle": "2023-11-26T22:18:40.096110Z",
     "shell.execute_reply": "2023-11-26T22:18:40.095022Z"
    },
    "papermill": {
     "duration": 0.023198,
     "end_time": "2023-11-26T22:18:40.098161",
     "exception": false,
     "start_time": "2023-11-26T22:18:40.074963",
     "status": "completed"
    },
    "tags": []
   },
   "outputs": [
    {
     "name": "stdout",
     "output_type": "stream",
     "text": [
      "Train set size: 2588 | Test set size: 323 | Valid set size: 324\n"
     ]
    }
   ],
   "source": [
    "# Split the dataset using train_test_split\n",
    "train_df, dummy_df = train_test_split(df, train_size=train_split, shuffle=True, random_state=123)\n",
    "test_df, valid_df = train_test_split(dummy_df, train_size=test_split/(1-train_split), shuffle=True, random_state=123)\n",
    "\n",
    "# Display the sizes of train, test, and valid sets\n",
    "print(\"Train set size:\", len(train_df), \"| Test set size:\", len(test_df), \"| Valid set size:\", len(valid_df))"
   ]
  },
  {
   "cell_type": "code",
   "execution_count": 6,
   "id": "d983d126",
   "metadata": {
    "execution": {
     "iopub.execute_input": "2023-11-26T22:18:40.116160Z",
     "iopub.status.busy": "2023-11-26T22:18:40.115586Z",
     "iopub.status.idle": "2023-11-26T22:18:40.121939Z",
     "shell.execute_reply": "2023-11-26T22:18:40.121037Z"
    },
    "papermill": {
     "duration": 0.017856,
     "end_time": "2023-11-26T22:18:40.124231",
     "exception": false,
     "start_time": "2023-11-26T22:18:40.106375",
     "status": "completed"
    },
    "tags": []
   },
   "outputs": [
    {
     "name": "stdout",
     "output_type": "stream",
     "text": [
      "Label distribution in the training set:\n",
      " clio                 263\n",
      "megane               233\n",
      "duster               225\n",
      "sandero              208\n",
      "picanto              143\n",
      "symbol               137\n",
      "volkswagen tiguan    134\n",
      "octavia              134\n",
      "Golf                 129\n",
      "toyota corolla       126\n",
      "hyundai i10          106\n",
      "polo                 105\n",
      "chevroulet aveo      105\n",
      "hyundai tucson        96\n",
      "logan                 86\n",
      "chevrolet spark       83\n",
      "seat ibiza            77\n",
      "bmw serie 1           67\n",
      "nemo citroen          66\n",
      "mercedes class a      65\n",
      "Name: labels, dtype: int64\n"
     ]
    }
   ],
   "source": [
    "# Display the count of labels in the train set\n",
    "print(\"Label distribution in the training set:\\n\", train_df['labels'].value_counts())"
   ]
  },
  {
   "cell_type": "markdown",
   "id": "0e25e62b",
   "metadata": {
    "papermill": {
     "duration": 0.008573,
     "end_time": "2023-11-26T22:18:40.141123",
     "exception": false,
     "start_time": "2023-11-26T22:18:40.132550",
     "status": "completed"
    },
    "tags": []
   },
   "source": [
    "# Image Data Generator"
   ]
  },
  {
   "cell_type": "code",
   "execution_count": 7,
   "id": "a00e577e",
   "metadata": {
    "execution": {
     "iopub.execute_input": "2023-11-26T22:18:40.164860Z",
     "iopub.status.busy": "2023-11-26T22:18:40.163517Z",
     "iopub.status.idle": "2023-11-26T22:18:40.237183Z",
     "shell.execute_reply": "2023-11-26T22:18:40.235888Z"
    },
    "papermill": {
     "duration": 0.088279,
     "end_time": "2023-11-26T22:18:40.239895",
     "exception": false,
     "start_time": "2023-11-26T22:18:40.151616",
     "status": "completed"
    },
    "tags": []
   },
   "outputs": [
    {
     "name": "stdout",
     "output_type": "stream",
     "text": [
      "Found 2588 validated image filenames belonging to 20 classes.\n",
      "Found 323 validated image filenames belonging to 20 classes.\n",
      "Found 324 validated image filenames belonging to 20 classes.\n"
     ]
    }
   ],
   "source": [
    "# Generate train, test, and valid sets using ImageDataGenerator\n",
    "def scalar(img):\n",
    "    return img/127.5-1  # scale pixel between -1 and +1\n",
    "\n",
    "# Create ImageDataGenerator for training set with augmentation\n",
    "trgen = ImageDataGenerator(preprocessing_function=scalar, \n",
    "                           horizontal_flip=True, \n",
    "                           rotation_range=40,\n",
    "                           width_shift_range=0.2,\n",
    "                           height_shift_range=0.2,\n",
    "                           shear_range=0.2,\n",
    "                           zoom_range=0.2,\n",
    "                           validation_split=0.2,\n",
    "                           fill_mode='nearest')\n",
    "\n",
    "# Create ImageDataGenerators for test and validation sets without augmentation\n",
    "tvgen = ImageDataGenerator(preprocessing_function=scalar)\n",
    "train_gen = trgen.flow_from_dataframe(train_df, \n",
    "                                     x_col='filepaths', \n",
    "                                     y_col='labels', \n",
    "                                     target_size=img_size, \n",
    "                                     class_mode='categorical',\n",
    "                                     color_mode='rgb', \n",
    "                                     shuffle=False, \n",
    "                                     batch_size=batch_size)\n",
    "\n",
    "test_gen = tvgen.flow_from_dataframe(test_df, \n",
    "                                    x_col='filepaths', \n",
    "                                    y_col='labels', \n",
    "                                    target_size=img_size, \n",
    "                                    class_mode='categorical',\n",
    "                                    color_mode='rgb', \n",
    "                                    shuffle=False, \n",
    "                                    batch_size=batch_size)\n",
    "\n",
    "valid_gen = tvgen.flow_from_dataframe(valid_df, \n",
    "                                     x_col='filepaths', \n",
    "                                     y_col='labels', \n",
    "                                     target_size=img_size, \n",
    "                                     class_mode='categorical',\n",
    "                                     color_mode='rgb', \n",
    "                                     shuffle=False, \n",
    "                                     batch_size=batch_size)"
   ]
  },
  {
   "cell_type": "code",
   "execution_count": 8,
   "id": "99104131",
   "metadata": {
    "execution": {
     "iopub.execute_input": "2023-11-26T22:18:40.259449Z",
     "iopub.status.busy": "2023-11-26T22:18:40.259120Z",
     "iopub.status.idle": "2023-11-26T22:18:40.265687Z",
     "shell.execute_reply": "2023-11-26T22:18:40.264697Z"
    },
    "papermill": {
     "duration": 0.018996,
     "end_time": "2023-11-26T22:18:40.267993",
     "exception": false,
     "start_time": "2023-11-26T22:18:40.248997",
     "status": "completed"
    },
    "tags": []
   },
   "outputs": [],
   "source": [
    "FILEPATH = '/kaggle/working/Dataset/' # filepath for data\n",
    "BATCH_SIZE = 64# keras training batch size\n",
    "IMAGE_SIZE = (224, 224) # size of images in dataset (keras will resize)\n",
    "\n",
    "\n",
    "ROUND_1_TRAINABLE_LAYERS = 0 # layers at end of the mobile_net base model to have trainable parameters\n",
    "ROUND_1_EPOCHS = 10\n",
    "\n",
    "ROUND_2_TRAINABLE_LAYERS = 38\n",
    "ROUND_2_LEARNING_SCALER = 0.2\n",
    "ROUND_2_EPOCHS = 10\n",
    "\n",
    "ROUND_3_TRAINABLE_LAYERS = 74\n",
    "ROUND_3_LEARNING_SCALER = 0.2\n",
    "ROUND_3_EPOCHS = 10\n",
    "\n",
    "LEARNING_RATE = 0.0001\n",
    "\n",
    "MODEL_CHECKPOINT_FILEPATH = './Bird-Classifier-Model-Checkpoint.ckpt'\n",
    "\n",
    "SEED = 6278 # random seed for repeatability of notebook"
   ]
  },
  {
   "cell_type": "markdown",
   "id": "174480e3",
   "metadata": {
    "papermill": {
     "duration": 0.008761,
     "end_time": "2023-11-26T22:18:40.285555",
     "exception": false,
     "start_time": "2023-11-26T22:18:40.276794",
     "status": "completed"
    },
    "tags": []
   },
   "source": [
    "# Build the model "
   ]
  },
  {
   "cell_type": "code",
   "execution_count": 9,
   "id": "9ae5536a",
   "metadata": {
    "execution": {
     "iopub.execute_input": "2023-11-26T22:18:40.304467Z",
     "iopub.status.busy": "2023-11-26T22:18:40.304087Z",
     "iopub.status.idle": "2023-11-26T22:18:45.435952Z",
     "shell.execute_reply": "2023-11-26T22:18:45.434852Z"
    },
    "papermill": {
     "duration": 5.144144,
     "end_time": "2023-11-26T22:18:45.438557",
     "exception": false,
     "start_time": "2023-11-26T22:18:40.294413",
     "status": "completed"
    },
    "tags": []
   },
   "outputs": [
    {
     "name": "stdout",
     "output_type": "stream",
     "text": [
      "Downloading data from https://storage.googleapis.com/tensorflow/keras-applications/mobilenet/mobilenet_1_0_224_tf_no_top.h5\n",
      "17227776/17225924 [==============================] - 0s 0us/step\n",
      "17235968/17225924 [==============================] - 0s 0us/step\n"
     ]
    }
   ],
   "source": [
    "# Build the model using MobileNet as the base model\n",
    "mobilenet = tf.keras.applications.mobilenet.MobileNet(input_shape=(224, 224, 3),\n",
    "                                                      include_top=False,\n",
    "                                                      weights='imagenet')\n",
    "\n",
    "# Create a sequential model\n",
    "model = Sequential()\n",
    "\n",
    "# Add MobileNet as the base model\n",
    "model.add(mobilenet)\n",
    "\n",
    "# Add GlobalAveragePooling2D layer\n",
    "model.add(GlobalAveragePooling2D())\n",
    "\n",
    "# Flatten the output\n",
    "model.add(Flatten())\n",
    "\n",
    "# Add Dense layers\n",
    "model.add(Dense(1024, activation=\"relu\"))\n",
    "model.add(Dense(512, activation=\"relu\"))\n",
    "\n",
    "# Add the output layer with softmax activation for classification\n",
    "model.add(Dense(20, activation=\"softmax\", name=\"classification\"))\n",
    "\n",
    "# Set optimizer, loss function, and metrics\n",
    "optimizer_1 = tf.keras.optimizers.Adam(learning_rate=LEARNING_RATE)\n",
    "loss = tf.keras.losses.CategoricalCrossentropy(from_logits=False)\n",
    "\n",
    "# Define model checkpoint to save the best model\n",
    "model_checkpoint = ModelCheckpoint(MODEL_CHECKPOINT_FILEPATH,\n",
    "                                   monitor='val_accuracy',\n",
    "                                   save_best_only=True,\n",
    "                                   save_weights_only=True,\n",
    "                                   verbose=1,\n",
    "                                   mode='max')\n",
    "\n",
    "# Compile the model\n",
    "model.compile(optimizer=optimizer_1, loss=loss, metrics=['accuracy'])"
   ]
  },
  {
   "cell_type": "markdown",
   "id": "b4c359c8",
   "metadata": {
    "papermill": {
     "duration": 0.009299,
     "end_time": "2023-11-26T22:18:45.457648",
     "exception": false,
     "start_time": "2023-11-26T22:18:45.448349",
     "status": "completed"
    },
    "tags": []
   },
   "source": [
    "# Train the model"
   ]
  },
  {
   "cell_type": "code",
   "execution_count": 10,
   "id": "4b98776f",
   "metadata": {
    "execution": {
     "iopub.execute_input": "2023-11-26T22:18:45.477652Z",
     "iopub.status.busy": "2023-11-26T22:18:45.477294Z",
     "iopub.status.idle": "2023-11-26T22:25:20.382094Z",
     "shell.execute_reply": "2023-11-26T22:25:20.380884Z"
    },
    "papermill": {
     "duration": 394.91814,
     "end_time": "2023-11-26T22:25:20.384851",
     "exception": false,
     "start_time": "2023-11-26T22:18:45.466711",
     "status": "completed"
    },
    "tags": []
   },
   "outputs": [
    {
     "name": "stdout",
     "output_type": "stream",
     "text": [
      "Epoch 1/10\n",
      "44/44 [==============================] - 58s 1s/step - loss: 2.6244 - accuracy: 0.2415 - val_loss: 2.4601 - val_accuracy: 0.2870\n",
      "\n",
      "Epoch 00001: val_accuracy improved from -inf to 0.28704, saving model to ./Bird-Classifier-Model-Checkpoint.ckpt\n",
      "Epoch 2/10\n",
      "44/44 [==============================] - 37s 835ms/step - loss: 1.5630 - accuracy: 0.5753 - val_loss: 1.8441 - val_accuracy: 0.4660\n",
      "\n",
      "Epoch 00002: val_accuracy improved from 0.28704 to 0.46605, saving model to ./Bird-Classifier-Model-Checkpoint.ckpt\n",
      "Epoch 3/10\n",
      "44/44 [==============================] - 37s 835ms/step - loss: 0.8143 - accuracy: 0.7794 - val_loss: 1.1336 - val_accuracy: 0.6790\n",
      "\n",
      "Epoch 00003: val_accuracy improved from 0.46605 to 0.67901, saving model to ./Bird-Classifier-Model-Checkpoint.ckpt\n",
      "Epoch 4/10\n",
      "44/44 [==============================] - 37s 826ms/step - loss: 0.4650 - accuracy: 0.8706 - val_loss: 0.8142 - val_accuracy: 0.7747\n",
      "\n",
      "Epoch 00004: val_accuracy improved from 0.67901 to 0.77469, saving model to ./Bird-Classifier-Model-Checkpoint.ckpt\n",
      "Epoch 5/10\n",
      "44/44 [==============================] - 37s 842ms/step - loss: 0.3011 - accuracy: 0.9177 - val_loss: 0.6864 - val_accuracy: 0.7932\n",
      "\n",
      "Epoch 00005: val_accuracy improved from 0.77469 to 0.79321, saving model to ./Bird-Classifier-Model-Checkpoint.ckpt\n",
      "Epoch 6/10\n",
      "44/44 [==============================] - 37s 830ms/step - loss: 0.2021 - accuracy: 0.9536 - val_loss: 0.5082 - val_accuracy: 0.8673\n",
      "\n",
      "Epoch 00006: val_accuracy improved from 0.79321 to 0.86728, saving model to ./Bird-Classifier-Model-Checkpoint.ckpt\n",
      "Epoch 7/10\n",
      "44/44 [==============================] - 37s 829ms/step - loss: 0.1419 - accuracy: 0.9702 - val_loss: 0.4431 - val_accuracy: 0.8580\n",
      "\n",
      "Epoch 00007: val_accuracy did not improve from 0.86728\n",
      "Epoch 8/10\n",
      "44/44 [==============================] - 37s 839ms/step - loss: 0.1019 - accuracy: 0.9787 - val_loss: 0.3350 - val_accuracy: 0.9136\n",
      "\n",
      "Epoch 00008: val_accuracy improved from 0.86728 to 0.91358, saving model to ./Bird-Classifier-Model-Checkpoint.ckpt\n",
      "Epoch 9/10\n",
      "44/44 [==============================] - 37s 838ms/step - loss: 0.0805 - accuracy: 0.9838 - val_loss: 0.3386 - val_accuracy: 0.9012\n",
      "\n",
      "Epoch 00009: val_accuracy did not improve from 0.91358\n",
      "Epoch 10/10\n",
      "44/44 [==============================] - 37s 836ms/step - loss: 0.0594 - accuracy: 0.9884 - val_loss: 0.2851 - val_accuracy: 0.9259\n",
      "\n",
      "Epoch 00010: val_accuracy improved from 0.91358 to 0.92593, saving model to ./Bird-Classifier-Model-Checkpoint.ckpt\n"
     ]
    }
   ],
   "source": [
    "# Train the model with the training and validation sets\n",
    "hist = model.fit(train_gen, validation_data=valid_gen, epochs=10, callbacks=[model_checkpoint])"
   ]
  },
  {
   "cell_type": "markdown",
   "id": "a0088541",
   "metadata": {
    "papermill": {
     "duration": 0.043901,
     "end_time": "2023-11-26T22:25:20.474761",
     "exception": false,
     "start_time": "2023-11-26T22:25:20.430860",
     "status": "completed"
    },
    "tags": []
   },
   "source": [
    "# Load the best weights"
   ]
  },
  {
   "cell_type": "code",
   "execution_count": 11,
   "id": "134f9d77",
   "metadata": {
    "execution": {
     "iopub.execute_input": "2023-11-26T22:25:20.564862Z",
     "iopub.status.busy": "2023-11-26T22:25:20.563924Z",
     "iopub.status.idle": "2023-11-26T22:25:21.055847Z",
     "shell.execute_reply": "2023-11-26T22:25:21.054828Z"
    },
    "papermill": {
     "duration": 0.53997,
     "end_time": "2023-11-26T22:25:21.058320",
     "exception": false,
     "start_time": "2023-11-26T22:25:20.518350",
     "status": "completed"
    },
    "tags": []
   },
   "outputs": [
    {
     "data": {
      "text/plain": [
       "<tensorflow.python.training.tracking.util.CheckpointLoadStatus at 0x7e96ec276c50>"
      ]
     },
     "execution_count": 11,
     "metadata": {},
     "output_type": "execute_result"
    }
   ],
   "source": [
    "# Load the best weights from the model checkpoint\n",
    "model.load_weights(MODEL_CHECKPOINT_FILEPATH)"
   ]
  },
  {
   "cell_type": "markdown",
   "id": "aa0915e5",
   "metadata": {
    "papermill": {
     "duration": 0.042758,
     "end_time": "2023-11-26T22:25:21.145886",
     "exception": false,
     "start_time": "2023-11-26T22:25:21.103128",
     "status": "completed"
    },
    "tags": []
   },
   "source": [
    "# Evaluate the model"
   ]
  },
  {
   "cell_type": "code",
   "execution_count": 12,
   "id": "4f749ce5",
   "metadata": {
    "execution": {
     "iopub.execute_input": "2023-11-26T22:25:21.234654Z",
     "iopub.status.busy": "2023-11-26T22:25:21.233973Z",
     "iopub.status.idle": "2023-11-26T22:25:23.725007Z",
     "shell.execute_reply": "2023-11-26T22:25:23.724036Z"
    },
    "papermill": {
     "duration": 2.537921,
     "end_time": "2023-11-26T22:25:23.727192",
     "exception": false,
     "start_time": "2023-11-26T22:25:21.189271",
     "status": "completed"
    },
    "tags": []
   },
   "outputs": [
    {
     "name": "stdout",
     "output_type": "stream",
     "text": [
      "6/6 [==============================] - 2s 363ms/step - loss: 0.1496 - accuracy: 0.9567\n",
      "\n",
      "\u001b[1mThe model had an accuracy score of 95.7%!!\u001b[0m\n"
     ]
    }
   ],
   "source": [
    "# Evaluate the model on the test set\n",
    "test_loss, test_accuracy = model.evaluate(test_gen)\n",
    "print('\\n\\033[1m' + 'The model had an accuracy score of {}%!!'.format(round(100*test_accuracy,1)) + '\\033[0m')"
   ]
  },
  {
   "cell_type": "markdown",
   "id": "31d8ed9a",
   "metadata": {
    "papermill": {
     "duration": 0.044205,
     "end_time": "2023-11-26T22:25:23.814924",
     "exception": false,
     "start_time": "2023-11-26T22:25:23.770719",
     "status": "completed"
    },
    "tags": []
   },
   "source": [
    "# Plot the training and validation accuracy"
   ]
  },
  {
   "cell_type": "code",
   "execution_count": 13,
   "id": "05565950",
   "metadata": {
    "execution": {
     "iopub.execute_input": "2023-11-26T22:25:23.905806Z",
     "iopub.status.busy": "2023-11-26T22:25:23.905426Z",
     "iopub.status.idle": "2023-11-26T22:25:24.530110Z",
     "shell.execute_reply": "2023-11-26T22:25:24.529070Z"
    },
    "papermill": {
     "duration": 0.673312,
     "end_time": "2023-11-26T22:25:24.532581",
     "exception": false,
     "start_time": "2023-11-26T22:25:23.859269",
     "status": "completed"
    },
    "tags": []
   },
   "outputs": [
    {
     "data": {
      "image/png": "[encoded data removed]",
      "text/plain": [
       "<Figure size 864x288 with 2 Axes>"
      ]
     },
     "metadata": {},
     "output_type": "display_data"
    }
   ],
   "source": [
    "# Plot the training and validation accuracy and loss\n",
    "plt.figure(figsize=(12, 4))\n",
    "plt.subplot(1, 2, 1)\n",
    "plt.plot(hist.history['accuracy'], label='Training Accuracy')\n",
    "plt.plot(hist.history['val_accuracy'], label='Validation Accuracy')\n",
    "plt.title('Training and Validation Accuracy')\n",
    "plt.xlabel('Epoch')\n",
    "plt.ylabel('Accuracy')\n",
    "plt.legend()\n",
    "\n",
    "plt.subplot(1, 2, 2)\n",
    "plt.plot(hist.history['loss'], label='Training Loss')\n",
    "plt.plot(hist.history['val_loss'], label='Validation Loss')\n",
    "plt.title('Training and Validation Loss')\n",
    "plt.xlabel('Epoch')\n",
    "plt.ylabel('Loss')\n",
    "plt.legend()\n",
    "plt.tight_layout()\n",
    "plt.show()\n"
   ]
  },
  {
   "cell_type": "markdown",
   "id": "61d5e818",
   "metadata": {
    "papermill": {
     "duration": 0.046158,
     "end_time": "2023-11-26T22:25:24.627180",
     "exception": false,
     "start_time": "2023-11-26T22:25:24.581022",
     "status": "completed"
    },
    "tags": []
   },
   "source": [
    "# Model Predict"
   ]
  },
  {
   "cell_type": "code",
   "execution_count": 14,
   "id": "1682c1ac",
   "metadata": {
    "execution": {
     "iopub.execute_input": "2023-11-26T22:25:24.717545Z",
     "iopub.status.busy": "2023-11-26T22:25:24.716857Z",
     "iopub.status.idle": "2023-11-26T22:25:26.492579Z",
     "shell.execute_reply": "2023-11-26T22:25:26.491592Z"
    },
    "papermill": {
     "duration": 1.823724,
     "end_time": "2023-11-26T22:25:26.495207",
     "exception": false,
     "start_time": "2023-11-26T22:25:24.671483",
     "status": "completed"
    },
    "tags": []
   },
   "outputs": [],
   "source": [
    "# Get true labels for the test set\n",
    "y_true_classes = test_gen.classes\n",
    "\n",
    "# Predict the labels for the test set\n",
    "y_pred = model.predict(test_gen)\n",
    "y_pred_classes = np.argmax(y_pred, axis=1)"
   ]
  },
  {
   "cell_type": "markdown",
   "id": "6d52357f",
   "metadata": {
    "papermill": {
     "duration": 0.046133,
     "end_time": "2023-11-26T22:25:26.588171",
     "exception": false,
     "start_time": "2023-11-26T22:25:26.542038",
     "status": "completed"
    },
    "tags": []
   },
   "source": [
    "# confusion matrix"
   ]
  },
  {
   "cell_type": "code",
   "execution_count": 15,
   "id": "a50e5159",
   "metadata": {
    "execution": {
     "iopub.execute_input": "2023-11-26T22:25:26.680683Z",
     "iopub.status.busy": "2023-11-26T22:25:26.680164Z",
     "iopub.status.idle": "2023-11-26T22:25:28.357505Z",
     "shell.execute_reply": "2023-11-26T22:25:28.356495Z"
    },
    "papermill": {
     "duration": 1.726013,
     "end_time": "2023-11-26T22:25:28.359918",
     "exception": false,
     "start_time": "2023-11-26T22:25:26.633905",
     "status": "completed"
    },
    "tags": []
   },
   "outputs": [
    {
     "data": {
      "image/png": "[encoded data removed]",
      "text/plain": [
       "<Figure size 576x432 with 1 Axes>"
      ]
     },
     "metadata": {},
     "output_type": "display_data"
    }
   ],
   "source": [
    "# Generate confusion matrix\n",
    "conf_matrix = confusion_matrix(y_true_classes, y_pred_classes)\n",
    "\n",
    "# Plot confusion matrix\n",
    "plt.figure(figsize=(8, 6))\n",
    "sns.heatmap(conf_matrix, annot=True, fmt='d', cmap='Blues', cbar=False)\n",
    "plt.title('Confusion Matrix')\n",
    "plt.xlabel('Predicted')\n",
    "plt.ylabel('True')\n",
    "plt.show()"
   ]
  },
  {
   "cell_type": "markdown",
   "id": "5c207112",
   "metadata": {
    "papermill": {
     "duration": 0.04693,
     "end_time": "2023-11-26T22:25:28.454019",
     "exception": false,
     "start_time": "2023-11-26T22:25:28.407089",
     "status": "completed"
    },
    "tags": []
   },
   "source": [
    "# classification report"
   ]
  },
  {
   "cell_type": "code",
   "execution_count": 16,
   "id": "c239d1e8",
   "metadata": {
    "execution": {
     "iopub.execute_input": "2023-11-26T22:25:28.549633Z",
     "iopub.status.busy": "2023-11-26T22:25:28.549248Z",
     "iopub.status.idle": "2023-11-26T22:25:28.564785Z",
     "shell.execute_reply": "2023-11-26T22:25:28.563435Z"
    },
    "papermill": {
     "duration": 0.066934,
     "end_time": "2023-11-26T22:25:28.567472",
     "exception": false,
     "start_time": "2023-11-26T22:25:28.500538",
     "status": "completed"
    },
    "tags": []
   },
   "outputs": [
    {
     "name": "stdout",
     "output_type": "stream",
     "text": [
      "\n",
      "Classification Report:\n",
      "               precision    recall  f1-score   support\n",
      "\n",
      "           0       0.94      0.94      0.94        16\n",
      "           1       1.00      1.00      1.00         6\n",
      "           2       0.93      1.00      0.96        13\n",
      "           3       1.00      0.83      0.91        12\n",
      "           4       1.00      1.00      1.00        34\n",
      "           5       1.00      1.00      1.00        29\n",
      "           6       1.00      0.92      0.96        13\n",
      "           7       0.94      1.00      0.97        15\n",
      "           8       1.00      0.82      0.90        11\n",
      "           9       1.00      0.88      0.94        25\n",
      "          10       0.75      0.75      0.75         4\n",
      "          11       1.00      1.00      1.00         6\n",
      "          12       0.92      1.00      0.96        12\n",
      "          13       1.00      1.00      1.00        18\n",
      "          14       0.82      0.93      0.87        15\n",
      "          15       0.93      1.00      0.97        28\n",
      "          16       0.83      0.83      0.83        12\n",
      "          17       1.00      1.00      1.00        11\n",
      "          18       1.00      1.00      1.00        13\n",
      "          19       0.94      0.97      0.95        30\n",
      "\n",
      "    accuracy                           0.96       323\n",
      "   macro avg       0.95      0.94      0.95       323\n",
      "weighted avg       0.96      0.96      0.96       323\n",
      "\n"
     ]
    }
   ],
   "source": [
    "# Generate classification report\n",
    "class_report = classification_report(y_true_classes, y_pred_classes)\n",
    "\n",
    "# Display classification report\n",
    "print(\"\\nClassification Report:\\n\", class_report)"
   ]
  },
  {
   "cell_type": "code",
   "execution_count": null,
   "id": "29cc481e",
   "metadata": {
    "papermill": {
     "duration": 0.04461,
     "end_time": "2023-11-26T22:25:28.660235",
     "exception": false,
     "start_time": "2023-11-26T22:25:28.615625",
     "status": "completed"
    },
    "tags": []
   },
   "outputs": [],
   "source": []
  }
 ],
 "metadata": {
  "kaggle": {
   "accelerator": "nvidiaTeslaT4",
   "dataSources": [
    {
     "datasetId": 2022386,
     "sourceId": 3471575,
     "sourceType": "datasetVersion"
    },
    {
     "datasetId": 31559,
     "sourceId": 46697,
     "sourceType": "datasetVersion"
    }
   ],
   "dockerImageVersionId": 30381,
   "isGpuEnabled": true,
   "isInternetEnabled": true,
   "language": "python",
   "sourceType": "notebook"
  },
  "kernelspec": {
   "display_name": "Python 3",
   "language": "python",
   "name": "python3"
  },
  "language_info": {
   "codemirror_mode": {
    "name": "ipython",
    "version": 3
   },
   "file_extension": ".py",
   "mimetype": "text/x-python",
   "name": "python",
   "nbconvert_exporter": "python",
   "pygments_lexer": "ipython3",
   "version": "3.7.12"
  },
  "papermill": {
   "default_parameters": {},
   "duration": 429.672845,
   "end_time": "2023-11-26T22:25:32.019331",
   "environment_variables": {},
   "exception": null,
   "input_path": "__notebook__.ipynb",
   "output_path": "__notebook__.ipynb",
   "parameters": {},
   "start_time": "2023-11-26T22:18:22.346486",
   "version": "2.3.4"
  }
 },
 "nbformat": 4,
 "nbformat_minor": 5
}
